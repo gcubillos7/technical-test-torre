{
  "nbformat": 4,
  "nbformat_minor": 0,
  "metadata": {
    "colab": {
      "name": "TechnicalTest.ipynb",
      "provenance": [],
      "collapsed_sections": [],
      "authorship_tag": "ABX9TyNO1KBXV72diaNq3uweojYq",
      "include_colab_link": true
    },
    "kernelspec": {
      "name": "python3",
      "display_name": "Python 3"
    },
    "language_info": {
      "name": "python"
    }
  },
  "cells": [
    {
      "cell_type": "markdown",
      "metadata": {
        "id": "view-in-github",
        "colab_type": "text"
      },
      "source": [
        "<a href=\"https://colab.research.google.com/github/gcubillos7/technical-test-torre/blob/main/TechnicalTest.ipynb\" target=\"_parent\"><img src=\"https://colab.research.google.com/assets/colab-badge.svg\" alt=\"Open In Colab\"/></a>"
      ]
    },
    {
      "cell_type": "markdown",
      "metadata": {
        "id": "fr7YQkpGNBum"
      },
      "source": [
        "#Technical test"
      ]
    },
    {
      "cell_type": "markdown",
      "metadata": {
        "id": "rcM7ONaoNMaE"
      },
      "source": [
        "##Data importation and first approch"
      ]
    },
    {
      "cell_type": "code",
      "metadata": {
        "id": "A7nUqXeABmzp",
        "colab": {
          "base_uri": "https://localhost:8080/"
        },
        "outputId": "aaf88db0-cc94-454e-d787-df0c3393828a"
      },
      "source": [
        "!gdown --id 1EDxy0azg2IbpL0-jRfC4bHlZTnMkrjHH"
      ],
      "execution_count": 1,
      "outputs": [
        {
          "output_type": "stream",
          "text": [
            "Downloading...\n",
            "From: https://drive.google.com/uc?id=1EDxy0azg2IbpL0-jRfC4bHlZTnMkrjHH\n",
            "To: /content/reed_uk.csv\n",
            "109MB [00:00, 176MB/s] \n"
          ],
          "name": "stdout"
        }
      ]
    },
    {
      "cell_type": "code",
      "metadata": {
        "id": "UsaDVX7KBpkP",
        "colab": {
          "base_uri": "https://localhost:8080/"
        },
        "outputId": "e44a853f-acf4-4850-a6f4-cbcc085f47d1"
      },
      "source": [
        "import pandas as pd\n",
        "import numpy as np\n",
        "import nltk\n",
        "nltk.download('stopwords')\n",
        "nltk.download('punkt')\n",
        "from nltk.corpus import stopwords"
      ],
      "execution_count": 2,
      "outputs": [
        {
          "output_type": "stream",
          "text": [
            "[nltk_data] Downloading package stopwords to /root/nltk_data...\n",
            "[nltk_data]   Package stopwords is already up-to-date!\n",
            "[nltk_data] Downloading package punkt to /root/nltk_data...\n",
            "[nltk_data]   Package punkt is already up-to-date!\n"
          ],
          "name": "stdout"
        }
      ]
    },
    {
      "cell_type": "code",
      "metadata": {
        "id": "wFBm5dB0CMFD"
      },
      "source": [
        "reed=pd.read_csv('/content/reed_uk.csv')"
      ],
      "execution_count": 3,
      "outputs": []
    },
    {
      "cell_type": "code",
      "metadata": {
        "id": "CzBj5njzCSy9",
        "colab": {
          "base_uri": "https://localhost:8080/",
          "height": 648
        },
        "outputId": "8babfc43-82b2-4349-8f0a-626af3d4d91e"
      },
      "source": [
        "reed.head(10)"
      ],
      "execution_count": 4,
      "outputs": [
        {
          "output_type": "execute_result",
          "data": {
            "text/html": [
              "<div>\n",
              "<style scoped>\n",
              "    .dataframe tbody tr th:only-of-type {\n",
              "        vertical-align: middle;\n",
              "    }\n",
              "\n",
              "    .dataframe tbody tr th {\n",
              "        vertical-align: top;\n",
              "    }\n",
              "\n",
              "    .dataframe thead th {\n",
              "        text-align: right;\n",
              "    }\n",
              "</style>\n",
              "<table border=\"1\" class=\"dataframe\">\n",
              "  <thead>\n",
              "    <tr style=\"text-align: right;\">\n",
              "      <th></th>\n",
              "      <th>category</th>\n",
              "      <th>city</th>\n",
              "      <th>company_name</th>\n",
              "      <th>geo</th>\n",
              "      <th>job_board</th>\n",
              "      <th>job_description</th>\n",
              "      <th>job_requirements</th>\n",
              "      <th>job_title</th>\n",
              "      <th>job_type</th>\n",
              "      <th>post_date</th>\n",
              "      <th>salary_offered</th>\n",
              "      <th>state</th>\n",
              "    </tr>\n",
              "  </thead>\n",
              "  <tbody>\n",
              "    <tr>\n",
              "      <th>0</th>\n",
              "      <td>catering jobs</td>\n",
              "      <td>Chudleigh</td>\n",
              "      <td>Haulfryn Group</td>\n",
              "      <td>uk</td>\n",
              "      <td>reed</td>\n",
              "      <td>Apply now New opportunity not to be missed! H...</td>\n",
              "      <td>NaN</td>\n",
              "      <td>Commis Chef</td>\n",
              "      <td>Permanent, full-time</td>\n",
              "      <td>3/12/2018</td>\n",
              "      <td>£18,323 per annum</td>\n",
              "      <td>Devon</td>\n",
              "    </tr>\n",
              "    <tr>\n",
              "      <th>1</th>\n",
              "      <td>law jobs</td>\n",
              "      <td>Swindon</td>\n",
              "      <td>Reed</td>\n",
              "      <td>uk</td>\n",
              "      <td>reed</td>\n",
              "      <td>Apply now This role requires an experienced s...</td>\n",
              "      <td>NaN</td>\n",
              "      <td>Corporate Legal Secretary</td>\n",
              "      <td>Permanent, full-time</td>\n",
              "      <td>3/8/2018</td>\n",
              "      <td>£18,000 - £22,000 per annum</td>\n",
              "      <td>Wiltshire</td>\n",
              "    </tr>\n",
              "    <tr>\n",
              "      <th>2</th>\n",
              "      <td>factory jobs</td>\n",
              "      <td>Norfolk</td>\n",
              "      <td>Swanstaff Recruitment Ltd</td>\n",
              "      <td>uk</td>\n",
              "      <td>reed</td>\n",
              "      <td>Apply now Job Title: Warehouse personLocation...</td>\n",
              "      <td>NaN</td>\n",
              "      <td>Warehouse Person</td>\n",
              "      <td>Permanent, full-time</td>\n",
              "      <td>2/27/2018</td>\n",
              "      <td>Salary not specified</td>\n",
              "      <td>East Anglia</td>\n",
              "    </tr>\n",
              "    <tr>\n",
              "      <th>3</th>\n",
              "      <td>law jobs</td>\n",
              "      <td>Hurstpierpoint</td>\n",
              "      <td>Castles Solicitors</td>\n",
              "      <td>uk</td>\n",
              "      <td>reed</td>\n",
              "      <td>Apply now Castles Solicitors are looking for ...</td>\n",
              "      <td>Required skills Admin Case Management Corresp...</td>\n",
              "      <td>Legal Secretary / Admin Assistant</td>\n",
              "      <td>Permanent, full-time or part-time</td>\n",
              "      <td>2/21/2018</td>\n",
              "      <td>£15,000 - £17,000 per annum, pro-rata</td>\n",
              "      <td>West Sussex</td>\n",
              "    </tr>\n",
              "    <tr>\n",
              "      <th>4</th>\n",
              "      <td>factory jobs</td>\n",
              "      <td>Hertfordshire</td>\n",
              "      <td>Marketplace Group</td>\n",
              "      <td>uk</td>\n",
              "      <td>reed</td>\n",
              "      <td>Apply now International Pharmaceutical Manufa...</td>\n",
              "      <td>NaN</td>\n",
              "      <td>Category Planner - Pharmaceutical</td>\n",
              "      <td>Permanent, full-time</td>\n",
              "      <td>3/1/2018</td>\n",
              "      <td>£37,000 - £45,000 per annum</td>\n",
              "      <td>South East England</td>\n",
              "    </tr>\n",
              "    <tr>\n",
              "      <th>5</th>\n",
              "      <td>retail jobs</td>\n",
              "      <td>Belfast</td>\n",
              "      <td>Vodafone</td>\n",
              "      <td>uk</td>\n",
              "      <td>reed</td>\n",
              "      <td>Apply on employer's website Retail Advisor - ...</td>\n",
              "      <td>NaN</td>\n",
              "      <td>Retail Adviser 20hrs/week - Belfast Donnegal P...</td>\n",
              "      <td>Permanent, part-time</td>\n",
              "      <td>3/12/2018</td>\n",
              "      <td>£9,100 - £9,152 per annum, OTE</td>\n",
              "      <td>County Antrim</td>\n",
              "    </tr>\n",
              "    <tr>\n",
              "      <th>6</th>\n",
              "      <td>factory jobs</td>\n",
              "      <td>Thetford</td>\n",
              "      <td>Hales Group Limited</td>\n",
              "      <td>uk</td>\n",
              "      <td>reed</td>\n",
              "      <td>Apply now Break Press Operator - Permanent, Â...</td>\n",
              "      <td>NaN</td>\n",
              "      <td>Break Press Operator</td>\n",
              "      <td>Permanent, full-time</td>\n",
              "      <td>2/28/2018</td>\n",
              "      <td>£9.25 - £10.15 per hour</td>\n",
              "      <td>Norfolk</td>\n",
              "    </tr>\n",
              "    <tr>\n",
              "      <th>7</th>\n",
              "      <td>motoring automotive jobs</td>\n",
              "      <td>Luton</td>\n",
              "      <td>Fine Recruiting Ltd</td>\n",
              "      <td>uk</td>\n",
              "      <td>reed</td>\n",
              "      <td>Apply now An exciting opportunity to start wi...</td>\n",
              "      <td>Required skills Accident Paint Repair Spray P...</td>\n",
              "      <td>Vehicle Paint Sprayer</td>\n",
              "      <td>Permanent, full-time</td>\n",
              "      <td>3/2/2018</td>\n",
              "      <td>£35,000 - £40,000 per annum</td>\n",
              "      <td>Bedfordshire</td>\n",
              "    </tr>\n",
              "    <tr>\n",
              "      <th>8</th>\n",
              "      <td>motoring automotive jobs</td>\n",
              "      <td>Blackburn</td>\n",
              "      <td>Audi</td>\n",
              "      <td>uk</td>\n",
              "      <td>reed</td>\n",
              "      <td>Apply on employer's website This exciting opp...</td>\n",
              "      <td>NaN</td>\n",
              "      <td>Vehicle Technician</td>\n",
              "      <td>Permanent, full-time</td>\n",
              "      <td>2/28/2018</td>\n",
              "      <td>£23,000 - £26,600 per annum</td>\n",
              "      <td>Lancashire</td>\n",
              "    </tr>\n",
              "    <tr>\n",
              "      <th>9</th>\n",
              "      <td>law jobs</td>\n",
              "      <td>Leeds</td>\n",
              "      <td>Rachel Clark Legal Recruitment</td>\n",
              "      <td>uk</td>\n",
              "      <td>reed</td>\n",
              "      <td>Apply now This highly regarded, top law firm ...</td>\n",
              "      <td>Required skills Diary Management Legal Secret...</td>\n",
              "      <td>LEGAL SECRETARY</td>\n",
              "      <td>Permanent, full-time</td>\n",
              "      <td>3/12/2018</td>\n",
              "      <td>£18,000 - £25,000 per annum, inc benefits</td>\n",
              "      <td>West Yorkshire</td>\n",
              "    </tr>\n",
              "  </tbody>\n",
              "</table>\n",
              "</div>"
            ],
            "text/plain": [
              "                   category  ...               state\n",
              "0             catering jobs  ...               Devon\n",
              "1                  law jobs  ...           Wiltshire\n",
              "2              factory jobs  ...         East Anglia\n",
              "3                  law jobs  ...         West Sussex\n",
              "4              factory jobs  ...  South East England\n",
              "5               retail jobs  ...       County Antrim\n",
              "6              factory jobs  ...             Norfolk\n",
              "7  motoring automotive jobs  ...        Bedfordshire\n",
              "8  motoring automotive jobs  ...          Lancashire\n",
              "9                  law jobs  ...      West Yorkshire\n",
              "\n",
              "[10 rows x 12 columns]"
            ]
          },
          "metadata": {
            "tags": []
          },
          "execution_count": 4
        }
      ]
    },
    {
      "cell_type": "code",
      "metadata": {
        "id": "c0f3JBf0Wzpi",
        "colab": {
          "base_uri": "https://localhost:8080/",
          "height": 190
        },
        "outputId": "c686d3b6-3545-4108-d48b-27d7fd9a96c5"
      },
      "source": [
        "reed.describe()"
      ],
      "execution_count": 5,
      "outputs": [
        {
          "output_type": "execute_result",
          "data": {
            "text/html": [
              "<div>\n",
              "<style scoped>\n",
              "    .dataframe tbody tr th:only-of-type {\n",
              "        vertical-align: middle;\n",
              "    }\n",
              "\n",
              "    .dataframe tbody tr th {\n",
              "        vertical-align: top;\n",
              "    }\n",
              "\n",
              "    .dataframe thead th {\n",
              "        text-align: right;\n",
              "    }\n",
              "</style>\n",
              "<table border=\"1\" class=\"dataframe\">\n",
              "  <thead>\n",
              "    <tr style=\"text-align: right;\">\n",
              "      <th></th>\n",
              "      <th>category</th>\n",
              "      <th>city</th>\n",
              "      <th>company_name</th>\n",
              "      <th>geo</th>\n",
              "      <th>job_board</th>\n",
              "      <th>job_description</th>\n",
              "      <th>job_requirements</th>\n",
              "      <th>job_title</th>\n",
              "      <th>job_type</th>\n",
              "      <th>post_date</th>\n",
              "      <th>salary_offered</th>\n",
              "      <th>state</th>\n",
              "    </tr>\n",
              "  </thead>\n",
              "  <tbody>\n",
              "    <tr>\n",
              "      <th>count</th>\n",
              "      <td>50000</td>\n",
              "      <td>50000</td>\n",
              "      <td>50000</td>\n",
              "      <td>50000</td>\n",
              "      <td>50000</td>\n",
              "      <td>50000</td>\n",
              "      <td>20548</td>\n",
              "      <td>50000</td>\n",
              "      <td>50000</td>\n",
              "      <td>50000</td>\n",
              "      <td>50000</td>\n",
              "      <td>49980</td>\n",
              "    </tr>\n",
              "    <tr>\n",
              "      <th>unique</th>\n",
              "      <td>37</td>\n",
              "      <td>2918</td>\n",
              "      <td>5166</td>\n",
              "      <td>1</td>\n",
              "      <td>1</td>\n",
              "      <td>42057</td>\n",
              "      <td>14887</td>\n",
              "      <td>29155</td>\n",
              "      <td>9</td>\n",
              "      <td>66</td>\n",
              "      <td>7345</td>\n",
              "      <td>167</td>\n",
              "    </tr>\n",
              "    <tr>\n",
              "      <th>top</th>\n",
              "      <td>health jobs</td>\n",
              "      <td>London</td>\n",
              "      <td>Hays Specialist Recruitment Limited</td>\n",
              "      <td>uk</td>\n",
              "      <td>reed</td>\n",
              "      <td>Apply on employer's website Add an annual tur...</td>\n",
              "      <td>Required skills Recruitment</td>\n",
              "      <td>Administrator</td>\n",
              "      <td>Permanent, full-time</td>\n",
              "      <td>3/7/2018</td>\n",
              "      <td>Salary negotiable</td>\n",
              "      <td>London</td>\n",
              "    </tr>\n",
              "    <tr>\n",
              "      <th>freq</th>\n",
              "      <td>1930</td>\n",
              "      <td>4349</td>\n",
              "      <td>1830</td>\n",
              "      <td>50000</td>\n",
              "      <td>50000</td>\n",
              "      <td>85</td>\n",
              "      <td>123</td>\n",
              "      <td>162</td>\n",
              "      <td>36864</td>\n",
              "      <td>8472</td>\n",
              "      <td>4539</td>\n",
              "      <td>5900</td>\n",
              "    </tr>\n",
              "  </tbody>\n",
              "</table>\n",
              "</div>"
            ],
            "text/plain": [
              "           category    city  ...       salary_offered   state\n",
              "count         50000   50000  ...                50000   49980\n",
              "unique           37    2918  ...                 7345     167\n",
              "top     health jobs  London  ...   Salary negotiable   London\n",
              "freq           1930    4349  ...                 4539    5900\n",
              "\n",
              "[4 rows x 12 columns]"
            ]
          },
          "metadata": {
            "tags": []
          },
          "execution_count": 5
        }
      ]
    },
    {
      "cell_type": "markdown",
      "metadata": {
        "id": "4B2G59ZfD_au"
      },
      "source": [
        "geo' and 'job_board' gives no information so it will be droped.\n",
        "'state' info is implicit in 'city' and 'post_date' is not necessary for the analysis"
      ]
    },
    {
      "cell_type": "markdown",
      "metadata": {
        "id": "3dc9NSDPNkg1"
      },
      "source": [
        "##Clean of the data\n"
      ]
    },
    {
      "cell_type": "code",
      "metadata": {
        "id": "3snvq7M4EKTb"
      },
      "source": [
        "reed=reed.drop(['geo', 'job_board', 'state','post_date'], axis=1)"
      ],
      "execution_count": 6,
      "outputs": []
    },
    {
      "cell_type": "code",
      "metadata": {
        "id": "XG-YuqLwSmG2"
      },
      "source": [
        "reed=reed.drop_duplicates()"
      ],
      "execution_count": 7,
      "outputs": []
    },
    {
      "cell_type": "code",
      "metadata": {
        "id": "PzlrYp2XSnw_",
        "colab": {
          "base_uri": "https://localhost:8080/",
          "height": 173
        },
        "outputId": "03fa8280-411c-4dd5-cefa-671a56d68448"
      },
      "source": [
        "reed.describe()"
      ],
      "execution_count": 8,
      "outputs": [
        {
          "output_type": "execute_result",
          "data": {
            "text/html": [
              "<div>\n",
              "<style scoped>\n",
              "    .dataframe tbody tr th:only-of-type {\n",
              "        vertical-align: middle;\n",
              "    }\n",
              "\n",
              "    .dataframe tbody tr th {\n",
              "        vertical-align: top;\n",
              "    }\n",
              "\n",
              "    .dataframe thead th {\n",
              "        text-align: right;\n",
              "    }\n",
              "</style>\n",
              "<table border=\"1\" class=\"dataframe\">\n",
              "  <thead>\n",
              "    <tr style=\"text-align: right;\">\n",
              "      <th></th>\n",
              "      <th>category</th>\n",
              "      <th>city</th>\n",
              "      <th>company_name</th>\n",
              "      <th>job_description</th>\n",
              "      <th>job_requirements</th>\n",
              "      <th>job_title</th>\n",
              "      <th>job_type</th>\n",
              "      <th>salary_offered</th>\n",
              "    </tr>\n",
              "  </thead>\n",
              "  <tbody>\n",
              "    <tr>\n",
              "      <th>count</th>\n",
              "      <td>44477</td>\n",
              "      <td>44477</td>\n",
              "      <td>44477</td>\n",
              "      <td>44477</td>\n",
              "      <td>18344</td>\n",
              "      <td>44477</td>\n",
              "      <td>44477</td>\n",
              "      <td>44477</td>\n",
              "    </tr>\n",
              "    <tr>\n",
              "      <th>unique</th>\n",
              "      <td>37</td>\n",
              "      <td>2918</td>\n",
              "      <td>5166</td>\n",
              "      <td>42057</td>\n",
              "      <td>14887</td>\n",
              "      <td>29155</td>\n",
              "      <td>9</td>\n",
              "      <td>7345</td>\n",
              "    </tr>\n",
              "    <tr>\n",
              "      <th>top</th>\n",
              "      <td>construction property jobs</td>\n",
              "      <td>London</td>\n",
              "      <td>Hays Specialist Recruitment Limited</td>\n",
              "      <td>Apply on employer's website Add an annual tur...</td>\n",
              "      <td>Required skills Recruitment</td>\n",
              "      <td>Administrator</td>\n",
              "      <td>Permanent, full-time</td>\n",
              "      <td>Salary negotiable</td>\n",
              "    </tr>\n",
              "    <tr>\n",
              "      <th>freq</th>\n",
              "      <td>1829</td>\n",
              "      <td>3848</td>\n",
              "      <td>1699</td>\n",
              "      <td>83</td>\n",
              "      <td>119</td>\n",
              "      <td>144</td>\n",
              "      <td>32842</td>\n",
              "      <td>3985</td>\n",
              "    </tr>\n",
              "  </tbody>\n",
              "</table>\n",
              "</div>"
            ],
            "text/plain": [
              "                          category  ...       salary_offered\n",
              "count                        44477  ...                44477\n",
              "unique                          37  ...                 7345\n",
              "top     construction property jobs  ...   Salary negotiable \n",
              "freq                          1829  ...                 3985\n",
              "\n",
              "[4 rows x 8 columns]"
            ]
          },
          "metadata": {
            "tags": []
          },
          "execution_count": 8
        }
      ]
    },
    {
      "cell_type": "markdown",
      "metadata": {
        "id": "Bu-Uzy2BQ1i4"
      },
      "source": [
        "We drop NaN present principaly in 'job_description'"
      ]
    },
    {
      "cell_type": "code",
      "metadata": {
        "id": "fUJk31pvQ1s9"
      },
      "source": [
        "reed=reed.dropna()"
      ],
      "execution_count": 9,
      "outputs": []
    },
    {
      "cell_type": "markdown",
      "metadata": {
        "id": "S0Bovh-yRG02"
      },
      "source": [
        "Then, stopwords and other characters will be removed from the text"
      ]
    },
    {
      "cell_type": "code",
      "metadata": {
        "id": "ghyhMChkDCu_"
      },
      "source": [
        "def remove_stopwords(text):\n",
        "      if type(text)!=float:      \n",
        "        STOPWORDS = set(stopwords.words('english'))\n",
        "        STOPWORDS.update(['Apply', 'now', 'Required','skills', 'per', 'annum',',','pro-rata','ote','hour','inc','benefits', '/', '1','2',\n",
        "                          '3','4','5','6','7','8','9','0'])\n",
        "        tokens = nltk.word_tokenize(text)\n",
        "        t = ' '.join([word for word in text.split() if word not in STOPWORDS]) \n",
        "        t=t.lower()\n",
        "        return t"
      ],
      "execution_count": 10,
      "outputs": []
    },
    {
      "cell_type": "code",
      "metadata": {
        "id": "I_jxXicLCu-u",
        "colab": {
          "base_uri": "https://localhost:8080/"
        },
        "outputId": "16bed6cf-c929-40b8-bb1a-a884d355c97b"
      },
      "source": [
        "for col in reed.columns:\n",
        "  print(col)\n",
        "  if (col!='city' and col!='category' and col!='company_name' and col!='id'):\n",
        "    reed[col]=reed[col].map(lambda x: remove_stopwords(x))\n",
        "  "
      ],
      "execution_count": 11,
      "outputs": [
        {
          "output_type": "stream",
          "text": [
            "category\n",
            "city\n",
            "company_name\n",
            "job_description\n",
            "job_requirements\n",
            "job_title\n",
            "job_type\n",
            "salary_offered\n"
          ],
          "name": "stdout"
        }
      ]
    },
    {
      "cell_type": "code",
      "metadata": {
        "id": "rj_Sqa8mCvBW",
        "colab": {
          "base_uri": "https://localhost:8080/",
          "height": 529
        },
        "outputId": "a7552e7c-88ca-40a9-b7a3-629b61efccdd"
      },
      "source": [
        "reed.head(10)"
      ],
      "execution_count": 12,
      "outputs": [
        {
          "output_type": "execute_result",
          "data": {
            "text/html": [
              "<div>\n",
              "<style scoped>\n",
              "    .dataframe tbody tr th:only-of-type {\n",
              "        vertical-align: middle;\n",
              "    }\n",
              "\n",
              "    .dataframe tbody tr th {\n",
              "        vertical-align: top;\n",
              "    }\n",
              "\n",
              "    .dataframe thead th {\n",
              "        text-align: right;\n",
              "    }\n",
              "</style>\n",
              "<table border=\"1\" class=\"dataframe\">\n",
              "  <thead>\n",
              "    <tr style=\"text-align: right;\">\n",
              "      <th></th>\n",
              "      <th>category</th>\n",
              "      <th>city</th>\n",
              "      <th>company_name</th>\n",
              "      <th>job_description</th>\n",
              "      <th>job_requirements</th>\n",
              "      <th>job_title</th>\n",
              "      <th>job_type</th>\n",
              "      <th>salary_offered</th>\n",
              "    </tr>\n",
              "  </thead>\n",
              "  <tbody>\n",
              "    <tr>\n",
              "      <th>3</th>\n",
              "      <td>law jobs</td>\n",
              "      <td>Hurstpierpoint</td>\n",
              "      <td>Castles Solicitors</td>\n",
              "      <td>castles solicitors looking part full time lega...</td>\n",
              "      <td>admin case management correspondence legal sol...</td>\n",
              "      <td>legal secretary admin assistant</td>\n",
              "      <td>permanent, full-time part-time</td>\n",
              "      <td>£15,000 - £17,000 annum,</td>\n",
              "    </tr>\n",
              "    <tr>\n",
              "      <th>7</th>\n",
              "      <td>motoring automotive jobs</td>\n",
              "      <td>Luton</td>\n",
              "      <td>Fine Recruiting Ltd</td>\n",
              "      <td>an exciting opportunity start new accident rep...</td>\n",
              "      <td>accident paint repair spray paint</td>\n",
              "      <td>vehicle paint sprayer</td>\n",
              "      <td>permanent, full-time</td>\n",
              "      <td>£35,000 - £40,000</td>\n",
              "    </tr>\n",
              "    <tr>\n",
              "      <th>9</th>\n",
              "      <td>law jobs</td>\n",
              "      <td>Leeds</td>\n",
              "      <td>Rachel Clark Legal Recruitment</td>\n",
              "      <td>this highly regarded, top law firm north engla...</td>\n",
              "      <td>diary management legal secretarial typing</td>\n",
              "      <td>legal secretary</td>\n",
              "      <td>permanent, full-time</td>\n",
              "      <td>£18,000 - £25,000 annum,</td>\n",
              "    </tr>\n",
              "    <tr>\n",
              "      <th>10</th>\n",
              "      <td>motoring automotive jobs</td>\n",
              "      <td>Bermuda Park</td>\n",
              "      <td>Keastone Recruitment</td>\n",
              "      <td>the opportunity this remarkable opportunity jo...</td>\n",
              "      <td>car dealership sales sales executive sales team</td>\n",
              "      <td>sales executive (automotive main dealer)</td>\n",
              "      <td>permanent, full-time</td>\n",
              "      <td>£12,000 - £40,000 annum, ote</td>\n",
              "    </tr>\n",
              "    <tr>\n",
              "      <th>15</th>\n",
              "      <td>catering jobs</td>\n",
              "      <td>Wooburn Green</td>\n",
              "      <td>Leisure People Recruitment</td>\n",
              "      <td>our client looking recruit committed, enthusia...</td>\n",
              "      <td>chef line chef commis chef cook kitchen staff ...</td>\n",
              "      <td>line chef part time - large private members club</td>\n",
              "      <td>permanent, part-time</td>\n",
              "      <td>£8.00 - £8.50</td>\n",
              "    </tr>\n",
              "    <tr>\n",
              "      <th>16</th>\n",
              "      <td>retail jobs</td>\n",
              "      <td>Edinburgh</td>\n",
              "      <td>Switch Consulting Recruitment Limited</td>\n",
              "      <td>my client my client helping change way world w...</td>\n",
              "      <td>businesses</td>\n",
              "      <td>centre manager edinburgh</td>\n",
              "      <td>permanent, full-time</td>\n",
              "      <td>£25,000 - £30,000 annum, ote</td>\n",
              "    </tr>\n",
              "    <tr>\n",
              "      <th>17</th>\n",
              "      <td>catering jobs</td>\n",
              "      <td>Cardiff</td>\n",
              "      <td>Berry Recruitment</td>\n",
              "      <td>berry recruitment looking event staff work upc...</td>\n",
              "      <td>catering event hospitality jobs customer waite...</td>\n",
              "      <td>event staff</td>\n",
              "      <td>temporary, part-time</td>\n",
              "      <td>£7.50</td>\n",
              "    </tr>\n",
              "    <tr>\n",
              "      <th>21</th>\n",
              "      <td>law jobs</td>\n",
              "      <td>Leicester</td>\n",
              "      <td>Sacco Mann</td>\n",
              "      <td>are residential conveyancing fee earner extens...</td>\n",
              "      <td>residential conveyancing paralegal filex legal...</td>\n",
              "      <td>conveyancing sales technical specialist</td>\n",
              "      <td>permanent, full-time</td>\n",
              "      <td>£20,000 - £26,000</td>\n",
              "    </tr>\n",
              "    <tr>\n",
              "      <th>22</th>\n",
              "      <td>motoring automotive jobs</td>\n",
              "      <td>Warrington</td>\n",
              "      <td>Perfect Placement Uk Ltd</td>\n",
              "      <td>automotive, motor trade job: vehicle service a...</td>\n",
              "      <td>automotive customer services sales aftersales ...</td>\n",
              "      <td>vehicle service advisor</td>\n",
              "      <td>permanent, full-time</td>\n",
              "      <td>£20,000 - £25,000 annum, benefits, ote</td>\n",
              "    </tr>\n",
              "    <tr>\n",
              "      <th>24</th>\n",
              "      <td>retail jobs</td>\n",
              "      <td>Cirencester</td>\n",
              "      <td>4Leisure Recruitment</td>\n",
              "      <td>we seeking proactive membership sales consulta...</td>\n",
              "      <td>leisure sales</td>\n",
              "      <td>membership sales consultant - leading leisure ...</td>\n",
              "      <td>temporary, full-time part-time</td>\n",
              "      <td>£8.00 - £10.00</td>\n",
              "    </tr>\n",
              "  </tbody>\n",
              "</table>\n",
              "</div>"
            ],
            "text/plain": [
              "                    category  ...                          salary_offered\n",
              "3                   law jobs  ...                £15,000 - £17,000 annum,\n",
              "7   motoring automotive jobs  ...                       £35,000 - £40,000\n",
              "9                   law jobs  ...                £18,000 - £25,000 annum,\n",
              "10  motoring automotive jobs  ...            £12,000 - £40,000 annum, ote\n",
              "15             catering jobs  ...                           £8.00 - £8.50\n",
              "16               retail jobs  ...            £25,000 - £30,000 annum, ote\n",
              "17             catering jobs  ...                                   £7.50\n",
              "21                  law jobs  ...                       £20,000 - £26,000\n",
              "22  motoring automotive jobs  ...  £20,000 - £25,000 annum, benefits, ote\n",
              "24               retail jobs  ...                          £8.00 - £10.00\n",
              "\n",
              "[10 rows x 8 columns]"
            ]
          },
          "metadata": {
            "tags": []
          },
          "execution_count": 12
        }
      ]
    },
    {
      "cell_type": "code",
      "metadata": {
        "id": "ZGcylC1CCvEe",
        "colab": {
          "base_uri": "https://localhost:8080/",
          "height": 173
        },
        "outputId": "ce2cdc7b-9a7a-47a2-bf06-490ba47c59b8"
      },
      "source": [
        "reed.describe()"
      ],
      "execution_count": 13,
      "outputs": [
        {
          "output_type": "execute_result",
          "data": {
            "text/html": [
              "<div>\n",
              "<style scoped>\n",
              "    .dataframe tbody tr th:only-of-type {\n",
              "        vertical-align: middle;\n",
              "    }\n",
              "\n",
              "    .dataframe tbody tr th {\n",
              "        vertical-align: top;\n",
              "    }\n",
              "\n",
              "    .dataframe thead th {\n",
              "        text-align: right;\n",
              "    }\n",
              "</style>\n",
              "<table border=\"1\" class=\"dataframe\">\n",
              "  <thead>\n",
              "    <tr style=\"text-align: right;\">\n",
              "      <th></th>\n",
              "      <th>category</th>\n",
              "      <th>city</th>\n",
              "      <th>company_name</th>\n",
              "      <th>job_description</th>\n",
              "      <th>job_requirements</th>\n",
              "      <th>job_title</th>\n",
              "      <th>job_type</th>\n",
              "      <th>salary_offered</th>\n",
              "    </tr>\n",
              "  </thead>\n",
              "  <tbody>\n",
              "    <tr>\n",
              "      <th>count</th>\n",
              "      <td>18344</td>\n",
              "      <td>18344</td>\n",
              "      <td>18344</td>\n",
              "      <td>18344</td>\n",
              "      <td>18344</td>\n",
              "      <td>18344</td>\n",
              "      <td>18344</td>\n",
              "      <td>18344</td>\n",
              "    </tr>\n",
              "    <tr>\n",
              "      <th>unique</th>\n",
              "      <td>37</td>\n",
              "      <td>1950</td>\n",
              "      <td>3458</td>\n",
              "      <td>17501</td>\n",
              "      <td>14812</td>\n",
              "      <td>12993</td>\n",
              "      <td>9</td>\n",
              "      <td>4205</td>\n",
              "    </tr>\n",
              "    <tr>\n",
              "      <th>top</th>\n",
              "      <td>engineering jobs</td>\n",
              "      <td>London</td>\n",
              "      <td>Hays Specialist Recruitment Limited</td>\n",
              "      <td>customer service ticket verification rates pay...</td>\n",
              "      <td>recruitment</td>\n",
              "      <td>customer service advisor</td>\n",
              "      <td>permanent, full-time</td>\n",
              "      <td>competitive salary</td>\n",
              "    </tr>\n",
              "    <tr>\n",
              "      <th>freq</th>\n",
              "      <td>940</td>\n",
              "      <td>1432</td>\n",
              "      <td>374</td>\n",
              "      <td>37</td>\n",
              "      <td>122</td>\n",
              "      <td>67</td>\n",
              "      <td>14053</td>\n",
              "      <td>1331</td>\n",
              "    </tr>\n",
              "  </tbody>\n",
              "</table>\n",
              "</div>"
            ],
            "text/plain": [
              "                category    city  ...              job_type      salary_offered\n",
              "count              18344   18344  ...                 18344               18344\n",
              "unique                37    1950  ...                     9                4205\n",
              "top     engineering jobs  London  ...  permanent, full-time  competitive salary\n",
              "freq                 940    1432  ...                 14053                1331\n",
              "\n",
              "[4 rows x 8 columns]"
            ]
          },
          "metadata": {
            "tags": []
          },
          "execution_count": 13
        }
      ]
    },
    {
      "cell_type": "markdown",
      "metadata": {
        "id": "--UOElKWOKIX"
      },
      "source": [
        "##Graph database creation with neo4j"
      ]
    },
    {
      "cell_type": "code",
      "metadata": {
        "id": "1dEfsf13IMit",
        "colab": {
          "base_uri": "https://localhost:8080/"
        },
        "outputId": "561b9550-38f6-4e9d-f1a5-e8af50b35efa"
      },
      "source": [
        "!pip install neo4j\n",
        " \n",
        "import pandas as pd\n",
        "import seaborn as sns\n",
        "import matplotlib.pyplot as plt\n",
        "\n",
        "from neo4j import GraphDatabase"
      ],
      "execution_count": 14,
      "outputs": [
        {
          "output_type": "stream",
          "text": [
            "Requirement already satisfied: neo4j in /usr/local/lib/python3.7/dist-packages (4.2.1)\n",
            "Requirement already satisfied: pytz in /usr/local/lib/python3.7/dist-packages (from neo4j) (2018.9)\n"
          ],
          "name": "stdout"
        }
      ]
    },
    {
      "cell_type": "code",
      "metadata": {
        "id": "wTC_QDAFt4ee"
      },
      "source": [
        "class Neo4jConnection:\n",
        "    \n",
        "    def __init__(self, uri, user, pwd):\n",
        "        self.__uri = uri\n",
        "        self.__user = user\n",
        "        self.__pwd = pwd\n",
        "        self.__driver = None\n",
        "        try:\n",
        "            self.__driver = GraphDatabase.driver(self.__uri, auth=(self.__user, self.__pwd))\n",
        "        except Exception as e:\n",
        "            print(\"Failed to create the driver:\", e)\n",
        "        \n",
        "    def close(self):\n",
        "        if self.__driver is not None:\n",
        "            self.__driver.close()\n",
        "        \n",
        "    def query(self, query, parameters=None, db=None):\n",
        "        assert self.__driver is not None, \"Driver not initialized!\"\n",
        "        session = None\n",
        "        response = None\n",
        "        try: \n",
        "            session = self.__driver.session(database=db) if db is not None else self.__driver.session() \n",
        "            response = list(session.run(query, parameters))\n",
        "        except Exception as e:\n",
        "            print(\"Query failed:\", e)\n",
        "        finally: \n",
        "            if session is not None:\n",
        "                session.close()\n",
        "        return response"
      ],
      "execution_count": 15,
      "outputs": []
    },
    {
      "cell_type": "code",
      "metadata": {
        "id": "Cm3AhGM6usXm"
      },
      "source": [
        "def get_job_title(line): \n",
        "    return list(line.split(\" \"))\n",
        " \n",
        " \n",
        "def get_category_list(line):\n",
        "    # Cleans category dataframe column, creating a list of categories in the\n",
        "    # row.\n",
        "    line=line.split(\" \")\n",
        "    line=line[:-1]\n",
        "    return list(line)\n",
        " \n",
        "def get_city_list(line):\n",
        "  listline=[]\n",
        "  listline.append(line)\n",
        "  return listline\n",
        " \n",
        "def add_job_title(job_title):\n",
        "    query = '''UNWIND $rows AS row\n",
        "    MERGE (jt:Job_title {job_title: row.job_title})\n",
        "    RETURN count(*) as total\n",
        "    '''\n",
        "    return conn.query(query, parameters={'rows': job_title.to_dict('records')})\n",
        " \n",
        " \n",
        "def add_city(rows):\n",
        "    query = '''UNWIND $rows AS row\n",
        "               MERGE (ct:City {city: row.city})\n",
        "               RETURN count(*) as total\n",
        "    '''\n",
        "    return conn.query(query, parameters={'rows': city.to_dict('records')})\n",
        " \n",
        " \n",
        "def add_category(rows): \n",
        "    query = '''\n",
        "    UNWIND $rows as row\n",
        "    MERGE (c:Category {category: row.category}) ON CREATE SET c.category = row.category\n",
        "    \n",
        "    // connect job_title\n",
        "    WITH row, c\n",
        "    UNWIND row.job_title_list AS job_title_list\n",
        "    MATCH (jt:Job_title {job_title: job_title_list})\n",
        "    MERGE (c)-[r:POSITION]->(jt)\n",
        "\n",
        "    // connect city\n",
        "    WITH  row, c \n",
        "    UNWIND row.city_list AS city_list\n",
        "    MATCH (ct:City {city: city_list})\n",
        "    MERGE (c)-[r:REQUIRED_IN]->(ct)\n",
        "    RETURN count (c) as total\n",
        "    '''\n",
        " \n",
        "    return conn.query(query, parameters={'rows': reed.to_dict('records')})\n",
        " "
      ],
      "execution_count": 16,
      "outputs": []
    },
    {
      "cell_type": "code",
      "metadata": {
        "id": "xUWuxvEEzZTp"
      },
      "source": [
        "reed['category_list'] = reed['category'].map(get_category_list)\n",
        "category = pd.DataFrame(reed[['category_list']])\n",
        "category.rename(columns={'category_list':'category'}, inplace=True)\n",
        " \n",
        " \n",
        "reed['job_title_list'] = reed['job_title'].map(get_job_title)\n",
        "job_title = pd.DataFrame(reed[['job_title_list']])\n",
        "job_title.rename(columns={'job_title_list':'job_title'}, inplace=True)\n",
        " \n",
        " \n",
        "reed['city_list'] = reed['city'].map(get_city_list)\n",
        "city = pd.DataFrame(reed[['city_list']])\n",
        "city.rename(columns={'city_list':'city'}, inplace=True)\n",
        " \n",
        "\n",
        "job_title = job_title.explode('job_title').drop_duplicates(subset=['job_title'])\n",
        "city = city.explode('city').drop_duplicates(subset=['city'])"
      ],
      "execution_count": 17,
      "outputs": []
    },
    {
      "cell_type": "markdown",
      "metadata": {
        "id": "y_hD2Yu4Opnq"
      },
      "source": [
        "Data will be upload"
      ]
    },
    {
      "cell_type": "code",
      "metadata": {
        "id": "heq8lbiSyha2"
      },
      "source": [
        "conn = Neo4jConnection(uri=\"bolt://34.201.30.63:7687\", user=\"neo4j\", pwd=\"workbooks-quantities-burns\")"
      ],
      "execution_count": 18,
      "outputs": []
    },
    {
      "cell_type": "code",
      "metadata": {
        "id": "yJVKsAB2yqfo",
        "colab": {
          "base_uri": "https://localhost:8080/"
        },
        "outputId": "cada0088-e53c-4e55-861c-513bcd4f3f25"
      },
      "source": [
        "conn.query('CREATE CONSTRAINT category IF NOT EXISTS ON (c:Category) ASSERT c.category IS UNIQUE')\n",
        "conn.query('CREATE CONSTRAINT city IF NOT EXISTS ON (ct:City) ASSERT ct.city IS UNIQUE')\n",
        "conn.query('CREATE CONSTRAINT job_title IF NOT EXISTS ON (jt:Job_title) ASSERT jt.job_title IS UNIQUE')"
      ],
      "execution_count": 19,
      "outputs": [
        {
          "output_type": "execute_result",
          "data": {
            "text/plain": [
              "[]"
            ]
          },
          "metadata": {
            "tags": []
          },
          "execution_count": 19
        }
      ]
    },
    {
      "cell_type": "code",
      "metadata": {
        "id": "w3fppKBhzLa3",
        "colab": {
          "base_uri": "https://localhost:8080/"
        },
        "outputId": "224522b8-60f2-4082-e7d6-99d2c99957f4"
      },
      "source": [
        "add_job_title(job_title)"
      ],
      "execution_count": 20,
      "outputs": [
        {
          "output_type": "execute_result",
          "data": {
            "text/plain": [
              "[<Record total=7542>]"
            ]
          },
          "metadata": {
            "tags": []
          },
          "execution_count": 20
        }
      ]
    },
    {
      "cell_type": "code",
      "metadata": {
        "id": "wSnUxQ3104_h",
        "colab": {
          "base_uri": "https://localhost:8080/"
        },
        "outputId": "bc1476cf-0823-486c-f8f8-594e3bb5c6a5"
      },
      "source": [
        "add_city(city)"
      ],
      "execution_count": 21,
      "outputs": [
        {
          "output_type": "execute_result",
          "data": {
            "text/plain": [
              "[<Record total=1950>]"
            ]
          },
          "metadata": {
            "tags": []
          },
          "execution_count": 21
        }
      ]
    },
    {
      "cell_type": "code",
      "metadata": {
        "id": "PSAATciD2PWj",
        "colab": {
          "base_uri": "https://localhost:8080/"
        },
        "outputId": "67a768ae-2f50-4894-a3a9-4f7d73be773e"
      },
      "source": [
        "add_category(reed) #may require try multiple times\n",
        "add_category(reed)"
      ],
      "execution_count": 22,
      "outputs": [
        {
          "output_type": "execute_result",
          "data": {
            "text/plain": [
              "[<Record total=76689>]"
            ]
          },
          "metadata": {
            "tags": []
          },
          "execution_count": 22
        }
      ]
    },
    {
      "cell_type": "markdown",
      "metadata": {
        "id": "4SBJdWcwOtxB"
      },
      "source": [
        "Example of query"
      ]
    },
    {
      "cell_type": "code",
      "metadata": {
        "id": "wehd9spd_lMy",
        "colab": {
          "base_uri": "https://localhost:8080/"
        },
        "outputId": "2a21d0eb-7a40-4e51-9119-8e1ade54b599"
      },
      "source": [
        "query_string = '''\n",
        "MATCH p=()-[r:REQUIRED_IN]->(), z=()-[:POSITION]->() RETURN p,z LIMIT 25\n",
        "'''\n",
        "\n",
        "command=conn.query(query_string)\n",
        "print(command[0]['p'])\n",
        "print(command[0]['z'])"
      ],
      "execution_count": 23,
      "outputs": [
        {
          "output_type": "stream",
          "text": [
            "<Path start=<Node id=9506 labels=frozenset({'Category'}) properties={'category': 'law jobs'}> end=<Node id=7542 labels=frozenset({'City'}) properties={'city': 'Hurstpierpoint'}> size=1>\n",
            "<Path start=<Node id=9506 labels=frozenset({'Category'}) properties={'category': 'law jobs'}> end=<Node id=804 labels=frozenset({'Job_title'}) properties={'job_title': 'reporting'}> size=1>\n"
          ],
          "name": "stdout"
        }
      ]
    },
    {
      "cell_type": "code",
      "metadata": {
        "id": "Ltk6Vbm9_IlW"
      },
      "source": [
        "conn.close()"
      ],
      "execution_count": 24,
      "outputs": []
    },
    {
      "cell_type": "code",
      "metadata": {
        "colab": {
          "base_uri": "https://localhost:8080/"
        },
        "id": "RO0tN6D4FJbk",
        "outputId": "b076ee1c-55cc-414c-b405-b1f16f3ba187"
      },
      "source": [
        "!gdown --id 1IyYVGWTxzE6uIZWyHinAInHdERVeK9h1"
      ],
      "execution_count": 25,
      "outputs": [
        {
          "output_type": "stream",
          "text": [
            "Downloading...\n",
            "From: https://drive.google.com/uc?id=1IyYVGWTxzE6uIZWyHinAInHdERVeK9h1\n",
            "To: /content/graph.svg\n",
            "\r  0% 0.00/27.1k [00:00<?, ?B/s]\r100% 27.1k/27.1k [00:00<00:00, 45.0MB/s]\n"
          ],
          "name": "stdout"
        }
      ]
    },
    {
      "cell_type": "code",
      "metadata": {
        "colab": {
          "base_uri": "https://localhost:8080/",
          "height": 434
        },
        "id": "jnW7lpGkHLby",
        "outputId": "a5c6058e-37d3-4dcc-c711-0bad8226a665"
      },
      "source": [
        "from IPython.display import SVG, display\n",
        "display(SVG('/content/graph.svg'))"
      ],
      "execution_count": 26,
      "outputs": [
        {
          "output_type": "display_data",
          "data": {
            "text/plain": [
              "<IPython.core.display.SVG object>"
            ],
            "image/svg+xml": "<svg height=\"412.7351379394531\" viewBox=\"-93.27873229980469 -85.98641967773438 412.376708984375 412.7351379394531\" width=\"412.376708984375\" xmlns=\"http://www.w3.org/2000/svg\"><title>Neo4j Graph Visualization</title><desc>Created using Neo4j (http://www.neo4j.com/)</desc><g class=\"layer relationships\"><g class=\"relationship\" transform=\"translate(116.71600442061757 123.69005125027621) rotate(438.65578230859256)\"><path class=\"outline\" d=\"M 25 0.5 L 52.31325366505142 0.5 L 52.31325366505142 -0.5 L 25 -0.5 Z M 112.98903491505142 0.5 L 140.30228858010284 0.5 L 140.30228858010284 3.5 L 147.30228858010284 0 L 140.30228858010284 -3.5 L 140.30228858010284 -0.5 L 112.98903491505142 -0.5 Z\" fill=\"#A5ABB6\" stroke=\"none\"/><text fill=\"#000000\" font-family=\"sans-serif\" font-size=\"8px\" pointer-events=\"none\" text-anchor=\"middle\" x=\"82.65114429005142\" y=\"3\">REQUIRED_IN</text></g><g class=\"relationship\" transform=\"translate(116.71600442061757 123.69005125027621) rotate(426.91371676877156)\"><path class=\"outline\" d=\"M 25 0.5 L 34.401781795812134 0.5 L 34.401781795812134 -0.5 L 25 -0.5 Z M 78.62834429581213 0.5 L 88.03012609162427 0.5 L 88.03012609162427 3.5 L 95.03012609162427 0 L 88.03012609162427 -3.5 L 88.03012609162427 -0.5 L 78.62834429581213 -0.5 Z\" fill=\"#A5ABB6\" stroke=\"none\"/><text fill=\"#000000\" font-family=\"sans-serif\" font-size=\"8px\" pointer-events=\"none\" text-anchor=\"middle\" x=\"56.515063045812134\" y=\"3\">POSITION</text></g><g class=\"relationship\" transform=\"translate(116.71600442061757 123.69005125027621) rotate(394.62019653222245)\"><path class=\"outline\" d=\"M 25 0.5 L 61.320444639658646 0.5 L 61.320444639658646 -0.5 L 25 -0.5 Z M 105.54700713965865 0.5 L 141.8674517793173 0.5 L 141.8674517793173 3.5 L 148.8674517793173 0 L 141.8674517793173 -3.5 L 141.8674517793173 -0.5 L 105.54700713965865 -0.5 Z\" fill=\"#A5ABB6\" stroke=\"none\"/><text fill=\"#000000\" font-family=\"sans-serif\" font-size=\"8px\" pointer-events=\"none\" text-anchor=\"middle\" x=\"83.43372588965865\" y=\"3\">POSITION</text></g><g class=\"relationship\" transform=\"translate(116.71600442061757 123.69005125027621) rotate(414.70242640486447)\"><path class=\"outline\" d=\"M 25 0.5 L 60.22354984419631 0.5 L 60.22354984419631 -0.5 L 25 -0.5 Z M 104.45011234419631 0.5 L 139.67366218839263 0.5 L 139.67366218839263 3.5 L 146.67366218839263 0 L 139.67366218839263 -3.5 L 139.67366218839263 -0.5 L 104.45011234419631 -0.5 Z\" fill=\"#A5ABB6\" stroke=\"none\"/><text fill=\"#000000\" font-family=\"sans-serif\" font-size=\"8px\" pointer-events=\"none\" text-anchor=\"middle\" x=\"82.33683109419631\" y=\"3\">POSITION</text></g><g class=\"relationship\" transform=\"translate(116.71600442061757 123.69005125027621) rotate(370.5541022730811)\"><path class=\"outline\" d=\"M 25 0.5 L 60.12556977108348 0.5 L 60.12556977108348 -0.5 L 25 -0.5 Z M 104.35213227108348 0.5 L 139.47770204216695 0.5 L 139.47770204216695 3.5 L 146.47770204216695 0 L 139.47770204216695 -3.5 L 139.47770204216695 -0.5 L 104.35213227108348 -0.5 Z\" fill=\"#A5ABB6\" stroke=\"none\"/><text fill=\"#000000\" font-family=\"sans-serif\" font-size=\"8px\" pointer-events=\"none\" text-anchor=\"middle\" x=\"82.23885102108348\" y=\"3\">POSITION</text></g><g class=\"relationship\" transform=\"translate(116.71600442061757 123.69005125027621) rotate(383.4428098713734)\"><path class=\"outline\" d=\"M 25 0.5 L 34.85651944446987 0.5 L 34.85651944446987 -0.5 L 25 -0.5 Z M 79.08308194446987 0.5 L 88.93960138893974 0.5 L 88.93960138893974 3.5 L 95.93960138893974 0 L 88.93960138893974 -3.5 L 88.93960138893974 -0.5 L 79.08308194446987 -0.5 Z\" fill=\"#A5ABB6\" stroke=\"none\"/><text fill=\"#000000\" font-family=\"sans-serif\" font-size=\"8px\" pointer-events=\"none\" text-anchor=\"middle\" x=\"56.96980069446987\" y=\"3\">POSITION</text></g><g class=\"relationship\" transform=\"translate(116.71600442061757 123.69005125027621) rotate(340.5692494965896)\"><path class=\"outline\" d=\"M 25 0.5 L 35.090373837110704 0.5 L 35.090373837110704 -0.5 L 25 -0.5 Z M 79.3169363371107 0.5 L 89.40731017422141 0.5 L 89.40731017422141 3.5 L 96.40731017422141 0 L 89.40731017422141 -3.5 L 89.40731017422141 -0.5 L 79.3169363371107 -0.5 Z\" fill=\"#A5ABB6\" stroke=\"none\"/><text fill=\"#000000\" font-family=\"sans-serif\" font-size=\"8px\" pointer-events=\"none\" text-anchor=\"middle\" x=\"57.203655087110704\" y=\"3\">POSITION</text></g><g class=\"relationship\" transform=\"translate(116.71600442061757 123.69005125027621) rotate(350.50067262310085)\"><path class=\"outline\" d=\"M 25 0.5 L 62.2829734710204 0.5 L 62.2829734710204 -0.5 L 25 -0.5 Z M 106.5095359710204 0.5 L 143.7925094420408 0.5 L 143.7925094420408 3.5 L 150.7925094420408 0 L 143.7925094420408 -3.5 L 143.7925094420408 -0.5 L 106.5095359710204 -0.5 Z\" fill=\"#A5ABB6\" stroke=\"none\"/><text fill=\"#000000\" font-family=\"sans-serif\" font-size=\"8px\" pointer-events=\"none\" text-anchor=\"middle\" x=\"84.3962547210204\" y=\"3\">POSITION</text></g><g class=\"relationship\" transform=\"translate(116.71600442061757 123.69005125027621) rotate(326.90645544272076)\"><path class=\"outline\" d=\"M 25 0.5 L 61.72792132002684 0.5 L 61.72792132002684 -0.5 L 25 -0.5 Z M 105.95448382002684 0.5 L 142.68240514005367 0.5 L 142.68240514005367 3.5 L 149.68240514005367 0 L 142.68240514005367 -3.5 L 142.68240514005367 -0.5 L 105.95448382002684 -0.5 Z\" fill=\"#A5ABB6\" stroke=\"none\"/><text fill=\"#000000\" font-family=\"sans-serif\" font-size=\"8px\" pointer-events=\"none\" text-anchor=\"middle\" x=\"83.84120257002684\" y=\"3\">POSITION</text></g><g class=\"relationship\" transform=\"translate(116.71600442061757 123.69005125027621) rotate(301.57532982516955)\"><path class=\"outline\" d=\"M 25 0.5 L 34.81241613595979 0.5 L 34.81241613595979 -0.5 L 25 -0.5 Z M 79.0389786359598 0.5 L 88.85139477191959 0.5 L 88.85139477191959 3.5 L 95.85139477191959 0 L 88.85139477191959 -3.5 L 88.85139477191959 -0.5 L 79.0389786359598 -0.5 Z\" fill=\"#A5ABB6\" stroke=\"none\"/><text fill=\"#000000\" font-family=\"sans-serif\" font-size=\"8px\" pointer-events=\"none\" text-anchor=\"middle\" x=\"56.92569738595979\" y=\"3\">POSITION</text></g><g class=\"relationship\" transform=\"translate(116.71600442061757 123.69005125027621) rotate(306.6979206793156)\"><path class=\"outline\" d=\"M 25 0.5 L 64.07411081248134 0.5 L 64.07411081248134 -0.5 L 25 -0.5 Z M 108.30067331248134 0.5 L 147.37478412496267 0.5 L 147.37478412496267 3.5 L 154.37478412496267 0 L 147.37478412496267 -3.5 L 147.37478412496267 -0.5 L 108.30067331248134 -0.5 Z\" fill=\"#A5ABB6\" stroke=\"none\"/><text fill=\"#000000\" font-family=\"sans-serif\" font-size=\"8px\" pointer-events=\"none\" text-anchor=\"middle\" x=\"86.18739206248134\" y=\"3\">POSITION</text></g><g class=\"relationship\" transform=\"translate(116.71600442061757 123.69005125027621) rotate(260.70865347615995)\"><path class=\"outline\" d=\"M 25 0.5 L 35.87691883301146 0.5 L 35.87691883301146 -0.5 L 25 -0.5 Z M 80.10348133301146 0.5 L 90.98040016602292 0.5 L 90.98040016602292 3.5 L 97.98040016602292 0 L 90.98040016602292 -3.5 L 90.98040016602292 -0.5 L 80.10348133301146 -0.5 Z\" fill=\"#A5ABB6\" stroke=\"none\"/><text fill=\"#000000\" font-family=\"sans-serif\" font-size=\"8px\" pointer-events=\"none\" text-anchor=\"middle\" transform=\"rotate(180 57.99020008301146 0)\" x=\"57.99020008301146\" y=\"3\">POSITION</text></g><g class=\"relationship\" transform=\"translate(116.71600442061757 123.69005125027621) rotate(285.9145369812517)\"><path class=\"outline\" d=\"M 25 0.5 L 60.15177738143774 0.5 L 60.15177738143774 -0.5 L 25 -0.5 Z M 104.37833988143774 0.5 L 139.53011726287548 0.5 L 139.53011726287548 3.5 L 146.53011726287548 0 L 139.53011726287548 -3.5 L 139.53011726287548 -0.5 L 104.37833988143774 -0.5 Z\" fill=\"#A5ABB6\" stroke=\"none\"/><text fill=\"#000000\" font-family=\"sans-serif\" font-size=\"8px\" pointer-events=\"none\" text-anchor=\"middle\" x=\"82.26505863143774\" y=\"3\">POSITION</text></g><g class=\"relationship\" transform=\"translate(116.71600442061757 123.69005125027621) rotate(507.101719513195)\"><path class=\"outline\" d=\"M 25 0.5 L 33.851403727982074 0.5 L 33.851403727982074 -0.5 L 25 -0.5 Z M 78.07796622798207 0.5 L 86.92936995596415 0.5 L 86.92936995596415 3.5 L 93.92936995596415 0 L 86.92936995596415 -3.5 L 86.92936995596415 -0.5 L 78.07796622798207 -0.5 Z\" fill=\"#A5ABB6\" stroke=\"none\"/><text fill=\"#000000\" font-family=\"sans-serif\" font-size=\"8px\" pointer-events=\"none\" text-anchor=\"middle\" transform=\"rotate(180 55.964684977982074 0)\" x=\"55.964684977982074\" y=\"3\">POSITION</text></g><g class=\"relationship\" transform=\"translate(116.71600442061757 123.69005125027621) rotate(266.55939129934825)\"><path class=\"outline\" d=\"M 25 0.5 L 64.88807932053042 0.5 L 64.88807932053042 -0.5 L 25 -0.5 Z M 109.11464182053042 0.5 L 149.00272114106085 0.5 L 149.00272114106085 3.5 L 156.00272114106085 0 L 149.00272114106085 -3.5 L 149.00272114106085 -0.5 L 109.11464182053042 -0.5 Z\" fill=\"#A5ABB6\" stroke=\"none\"/><text fill=\"#000000\" font-family=\"sans-serif\" font-size=\"8px\" pointer-events=\"none\" text-anchor=\"middle\" transform=\"rotate(180 87.00136057053042 0)\" x=\"87.00136057053042\" y=\"3\">POSITION</text></g><g class=\"relationship\" transform=\"translate(116.71600442061757 123.69005125027621) rotate(245.5978889148082)\"><path class=\"outline\" d=\"M 25 0.5 L 62.7648625380739 0.5 L 62.7648625380739 -0.5 L 25 -0.5 Z M 106.9914250380739 0.5 L 144.7562875761478 0.5 L 144.7562875761478 3.5 L 151.7562875761478 0 L 144.7562875761478 -3.5 L 144.7562875761478 -0.5 L 106.9914250380739 -0.5 Z\" fill=\"#A5ABB6\" stroke=\"none\"/><text fill=\"#000000\" font-family=\"sans-serif\" font-size=\"8px\" pointer-events=\"none\" text-anchor=\"middle\" transform=\"rotate(180 84.8781437880739 0)\" x=\"84.8781437880739\" y=\"3\">POSITION</text></g><g class=\"relationship\" transform=\"translate(116.71600442061757 123.69005125027621) rotate(225.90800109502555)\"><path class=\"outline\" d=\"M 25 0.5 L 65.17017654474509 0.5 L 65.17017654474509 -0.5 L 25 -0.5 Z M 109.39673904474509 0.5 L 149.56691558949018 0.5 L 149.56691558949018 3.5 L 156.56691558949018 0 L 149.56691558949018 -3.5 L 149.56691558949018 -0.5 L 109.39673904474509 -0.5 Z\" fill=\"#A5ABB6\" stroke=\"none\"/><text fill=\"#000000\" font-family=\"sans-serif\" font-size=\"8px\" pointer-events=\"none\" text-anchor=\"middle\" transform=\"rotate(180 87.28345779474509 0)\" x=\"87.28345779474509\" y=\"3\">POSITION</text></g><g class=\"relationship\" transform=\"translate(116.71600442061757 123.69005125027621) rotate(224.6380451985359)\"><path class=\"outline\" d=\"M 25 0.5 L 35.219642688834924 0.5 L 35.219642688834924 -0.5 L 25 -0.5 Z M 79.44620518883492 0.5 L 89.66584787766985 0.5 L 89.66584787766985 3.5 L 96.66584787766985 0 L 89.66584787766985 -3.5 L 89.66584787766985 -0.5 L 79.44620518883492 -0.5 Z\" fill=\"#A5ABB6\" stroke=\"none\"/><text fill=\"#000000\" font-family=\"sans-serif\" font-size=\"8px\" pointer-events=\"none\" text-anchor=\"middle\" transform=\"rotate(180 57.332923938834924 0)\" x=\"57.332923938834924\" y=\"3\">POSITION</text></g><g class=\"relationship\" transform=\"translate(116.71600442061757 123.69005125027621) rotate(205.78454547372797)\"><path class=\"outline\" d=\"M 25 0.5 L 62.61870408409635 0.5 L 62.61870408409635 -0.5 L 25 -0.5 Z M 106.84526658409635 0.5 L 144.4639706681927 0.5 L 144.4639706681927 3.5 L 151.4639706681927 0 L 144.4639706681927 -3.5 L 144.4639706681927 -0.5 L 106.84526658409635 -0.5 Z\" fill=\"#A5ABB6\" stroke=\"none\"/><text fill=\"#000000\" font-family=\"sans-serif\" font-size=\"8px\" pointer-events=\"none\" text-anchor=\"middle\" transform=\"rotate(180 84.73198533409635 0)\" x=\"84.73198533409635\" y=\"3\">POSITION</text></g><g class=\"relationship\" transform=\"translate(116.71600442061757 123.69005125027621) rotate(188.86579020444708)\"><path class=\"outline\" d=\"M 25 0.5 L 35.68331856636695 0.5 L 35.68331856636695 -0.5 L 25 -0.5 Z M 79.90988106636695 0.5 L 90.5931996327339 0.5 L 90.5931996327339 3.5 L 97.5931996327339 0 L 90.5931996327339 -3.5 L 90.5931996327339 -0.5 L 79.90988106636695 -0.5 Z\" fill=\"#A5ABB6\" stroke=\"none\"/><text fill=\"#000000\" font-family=\"sans-serif\" font-size=\"8px\" pointer-events=\"none\" text-anchor=\"middle\" transform=\"rotate(180 57.79659981636695 0)\" x=\"57.79659981636695\" y=\"3\">POSITION</text></g><g class=\"relationship\" transform=\"translate(116.71600442061757 123.69005125027621) rotate(184.7785713659274)\"><path class=\"outline\" d=\"M 25 0.5 L 65.1997458742312 0.5 L 65.1997458742312 -0.5 L 25 -0.5 Z M 109.4263083742312 0.5 L 149.6260542484624 0.5 L 149.6260542484624 3.5 L 156.6260542484624 0 L 149.6260542484624 -3.5 L 149.6260542484624 -0.5 L 109.4263083742312 -0.5 Z\" fill=\"#A5ABB6\" stroke=\"none\"/><text fill=\"#000000\" font-family=\"sans-serif\" font-size=\"8px\" pointer-events=\"none\" text-anchor=\"middle\" transform=\"rotate(180 87.3130271242312 0)\" x=\"87.3130271242312\" y=\"3\">POSITION</text></g><g class=\"relationship\" transform=\"translate(116.71600442061757 123.69005125027621) rotate(505.04016682195635)\"><path class=\"outline\" d=\"M 25 0.5 L 63.727953818765485 0.5 L 63.727953818765485 -0.5 L 25 -0.5 Z M 107.95451631876549 0.5 L 146.68247013753097 0.5 L 146.68247013753097 3.5 L 153.68247013753097 0 L 146.68247013753097 -3.5 L 146.68247013753097 -0.5 L 107.95451631876549 -0.5 Z\" fill=\"#A5ABB6\" stroke=\"none\"/><text fill=\"#000000\" font-family=\"sans-serif\" font-size=\"8px\" pointer-events=\"none\" text-anchor=\"middle\" transform=\"rotate(180 85.84123506876549 0)\" x=\"85.84123506876549\" y=\"3\">POSITION</text></g><g class=\"relationship\" transform=\"translate(116.71600442061757 123.69005125027621) rotate(525.4996159969669)\"><path class=\"outline\" d=\"M 25 0.5 L 59.165308728819994 0.5 L 59.165308728819994 -0.5 L 25 -0.5 Z M 103.39187122882 0.5 L 137.55717995764 0.5 L 137.55717995764 3.5 L 144.55717995764 0 L 137.55717995764 -3.5 L 137.55717995764 -0.5 L 103.39187122882 -0.5 Z\" fill=\"#A5ABB6\" stroke=\"none\"/><text fill=\"#000000\" font-family=\"sans-serif\" font-size=\"8px\" pointer-events=\"none\" text-anchor=\"middle\" transform=\"rotate(180 81.27858997882 0)\" x=\"81.27858997882\" y=\"3\">POSITION</text></g><g class=\"relationship\" transform=\"translate(116.71600442061757 123.69005125027621) rotate(471.5329662252756)\"><path class=\"outline\" d=\"M 25 0.5 L 37.66903965472418 0.5 L 37.66903965472418 -0.5 L 25 -0.5 Z M 81.89560215472417 0.5 L 94.56464180944836 0.5 L 94.56464180944836 3.5 L 101.56464180944836 0 L 94.56464180944836 -3.5 L 94.56464180944836 -0.5 L 81.89560215472417 -0.5 Z\" fill=\"#A5ABB6\" stroke=\"none\"/><text fill=\"#000000\" font-family=\"sans-serif\" font-size=\"8px\" pointer-events=\"none\" text-anchor=\"middle\" transform=\"rotate(180 59.78232090472418 0)\" x=\"59.78232090472418\" y=\"3\">POSITION</text></g><g class=\"relationship\" transform=\"translate(116.71600442061757 123.69005125027621) rotate(484.1798857097482)\"><path class=\"outline\" d=\"M 25 0.5 L 62.7373494531395 0.5 L 62.7373494531395 -0.5 L 25 -0.5 Z M 106.9639119531395 0.5 L 144.701261406279 0.5 L 144.701261406279 3.5 L 151.701261406279 0 L 144.701261406279 -3.5 L 144.701261406279 -0.5 L 106.9639119531395 -0.5 Z\" fill=\"#A5ABB6\" stroke=\"none\"/><text fill=\"#000000\" font-family=\"sans-serif\" font-size=\"8px\" pointer-events=\"none\" text-anchor=\"middle\" transform=\"rotate(180 84.8506307031395 0)\" x=\"84.8506307031395\" y=\"3\">POSITION</text></g><g class=\"relationship\" transform=\"translate(116.71600442061757 123.69005125027621) rotate(458.4607276915654)\"><path class=\"outline\" d=\"M 25 0.5 L 62.37362306902966 0.5 L 62.37362306902966 -0.5 L 25 -0.5 Z M 106.60018556902966 0.5 L 143.97380863805932 0.5 L 143.97380863805932 3.5 L 150.97380863805932 0 L 143.97380863805932 -3.5 L 143.97380863805932 -0.5 L 106.60018556902966 -0.5 Z\" fill=\"#A5ABB6\" stroke=\"none\"/><text fill=\"#000000\" font-family=\"sans-serif\" font-size=\"8px\" pointer-events=\"none\" text-anchor=\"middle\" transform=\"rotate(180 84.48690431902966 0)\" x=\"84.48690431902966\" y=\"3\">POSITION</text></g></g><g class=\"layer nodes\"><g class=\"node\" transform=\"translate(116.71600442061757,123.69005125027621)\"><circle class=\"outline\" cx=\"0\" cy=\"0\" fill=\"#F79767\" r=\"25\" stroke=\"#f36924\" stroke-width=\"2px\"/><text dy=\"1.5625\" fill=\"#FFFFFF\" font-family=\"sans-serif\" font-size=\"25\" pointer-events=\"none\" text-anchor=\"middle\"/><text fill=\"#FFFFFF\" font-family=\"sans-serif\" font-size=\"10px\" pointer-events=\"none\" text-anchor=\"middle\" x=\"0\" y=\"5\"> law jobs</text></g><g class=\"node\" transform=\"translate(150.6083590215162,292.6260952123271)\"><circle class=\"outline\" cx=\"0\" cy=\"0\" fill=\"#57C7E3\" r=\"25\" stroke=\"#23b3d7\" stroke-width=\"2px\"/><text dy=\"1.5625\" fill=\"#2A2C34\" font-family=\"sans-serif\" font-size=\"25\" pointer-events=\"none\" text-anchor=\"middle\"/><text fill=\"#2A2C34\" font-family=\"sans-serif\" font-size=\"10px\" pointer-events=\"none\" text-anchor=\"middle\" x=\"0\" y=\"5\"> Hurstpie…</text></g><g class=\"node\" transform=\"translate(163.78184507511835,234.1076124126944)\"><circle class=\"outline\" cx=\"0\" cy=\"0\" fill=\"#F16667\" r=\"25\" stroke=\"#eb2728\" stroke-width=\"2px\"/><text dy=\"1.5625\" fill=\"#FFFFFF\" font-family=\"sans-serif\" font-size=\"25\" pointer-events=\"none\" text-anchor=\"middle\"/><text fill=\"#FFFFFF\" font-family=\"sans-serif\" font-size=\"10px\" pointer-events=\"none\" text-anchor=\"middle\" x=\"0\" y=\"5\"> reporting</text></g><g class=\"node\" transform=\"translate(259.7978166257612,222.47003811160982)\"><circle class=\"outline\" cx=\"0\" cy=\"0\" fill=\"#F16667\" r=\"25\" stroke=\"#eb2728\" stroke-width=\"2px\"/><text dy=\"1.5625\" fill=\"#FFFFFF\" font-family=\"sans-serif\" font-size=\"25\" pointer-events=\"none\" text-anchor=\"middle\"/><text fill=\"#FFFFFF\" font-family=\"sans-serif\" font-size=\"10px\" pointer-events=\"none\" text-anchor=\"middle\" x=\"0\" y=\"5\"> levels</text></g><g class=\"node\" transform=\"translate(215.91300547757794,263.80358118396873)\"><circle class=\"outline\" cx=\"0\" cy=\"0\" fill=\"#F16667\" r=\"25\" stroke=\"#eb2728\" stroke-width=\"2px\"/><text dy=\"1.5625\" fill=\"#FFFFFF\" font-family=\"sans-serif\" font-size=\"25\" pointer-events=\"none\" text-anchor=\"middle\"/><text fill=\"#FFFFFF\" font-family=\"sans-serif\" font-size=\"10px\" pointer-events=\"none\" text-anchor=\"middle\" x=\"0\" y=\"5\"> disease</text></g><g class=\"node\" transform=\"translate(285.29271374938253,155.09857508612805)\"><circle class=\"outline\" cx=\"0\" cy=\"0\" fill=\"#F16667\" r=\"25\" stroke=\"#eb2728\" stroke-width=\"2px\"/><text dy=\"1.5625\" fill=\"#FFFFFF\" font-family=\"sans-serif\" font-size=\"25\" pointer-events=\"none\" text-anchor=\"middle\"/><text fill=\"#FFFFFF\" font-family=\"sans-serif\" font-size=\"10px\" pointer-events=\"none\" text-anchor=\"middle\" x=\"0\" y=\"5\"> assistant</text></g><g class=\"node\" transform=\"translate(227.6729646378637,171.80387632648572)\"><circle class=\"outline\" cx=\"0\" cy=\"0\" fill=\"#F16667\" r=\"25\" stroke=\"#eb2728\" stroke-width=\"2px\"/><text dy=\"1.5625\" fill=\"#FFFFFF\" font-family=\"sans-serif\" font-size=\"25\" pointer-events=\"none\" text-anchor=\"middle\"/><text fill=\"#FFFFFF\" font-family=\"sans-serif\" font-size=\"10px\" pointer-events=\"none\" text-anchor=\"middle\" x=\"0\" y=\"5\"> ol</text></g><g class=\"node\" transform=\"translate(231.20847043748796,83.30180804615327)\"><circle class=\"outline\" cx=\"0\" cy=\"0\" fill=\"#F16667\" r=\"25\" stroke=\"#eb2728\" stroke-width=\"2px\"/><text dy=\"1.5625\" fill=\"#FFFFFF\" font-family=\"sans-serif\" font-size=\"25\" pointer-events=\"none\" text-anchor=\"middle\"/><text fill=\"#FFFFFF\" font-family=\"sans-serif\" font-size=\"10px\" pointer-events=\"none\" text-anchor=\"middle\" x=\"0\" y=\"5\"> licensed</text></g><g class=\"node\" transform=\"translate(290.09796594050914,94.67795385203841)\"><circle class=\"outline\" cx=\"0\" cy=\"0\" fill=\"#F16667\" r=\"25\" stroke=\"#eb2728\" stroke-width=\"2px\"/><text dy=\"1.5625\" fill=\"#FFFFFF\" font-family=\"sans-serif\" font-size=\"25\" pointer-events=\"none\" text-anchor=\"middle\"/><text fill=\"#FFFFFF\" font-family=\"sans-serif\" font-size=\"10px\" pointer-events=\"none\" text-anchor=\"middle\" x=\"0\" y=\"5\"> ip/dp</text></g><g class=\"node\" transform=\"translate(263.06147170825034,28.312135201128537)\"><circle class=\"outline\" cx=\"0\" cy=\"0\" fill=\"#F16667\" r=\"25\" stroke=\"#eb2728\" stroke-width=\"2px\"/><text dy=\"1.5625\" fill=\"#FFFFFF\" font-family=\"sans-serif\" font-size=\"25\" pointer-events=\"none\" text-anchor=\"middle\"/><text fill=\"#FFFFFF\" font-family=\"sans-serif\" font-size=\"10px\" pointer-events=\"none\" text-anchor=\"middle\" x=\"0\" y=\"5\"> (guide)</text></g><g class=\"node\" transform=\"translate(179.99610593625866,20.73040687206116)\"><circle class=\"outline\" cx=\"0\" cy=\"0\" fill=\"#F16667\" r=\"25\" stroke=\"#eb2728\" stroke-width=\"2px\"/><text dy=\"1.5625\" fill=\"#FFFFFF\" font-family=\"sans-serif\" font-size=\"25\" pointer-events=\"none\" text-anchor=\"middle\"/><text fill=\"#FFFFFF\" font-family=\"sans-serif\" font-size=\"10px\" pointer-events=\"none\" text-anchor=\"middle\" x=\"0\" y=\"5\"> lancash</text></g><g class=\"node\" transform=\"translate(223.9096667664122,-20.132172111667163)\"><circle class=\"outline\" cx=\"0\" cy=\"0\" fill=\"#F16667\" r=\"25\" stroke=\"#eb2728\" stroke-width=\"2px\"/><text dy=\"1.5625\" fill=\"#FFFFFF\" font-family=\"sans-serif\" font-size=\"25\" pointer-events=\"none\" text-anchor=\"middle\"/><text fill=\"#FFFFFF\" font-family=\"sans-serif\" font-size=\"10px\" pointer-events=\"none\" text-anchor=\"middle\" x=\"0\" y=\"5\"> receptio…</text></g><g class=\"node\" transform=\"translate(96.86023185137218,2.3231401061199017)\"><circle class=\"outline\" cx=\"0\" cy=\"0\" fill=\"#F16667\" r=\"25\" stroke=\"#eb2728\" stroke-width=\"2px\"/><text dy=\"1.5625\" fill=\"#FFFFFF\" font-family=\"sans-serif\" font-size=\"25\" pointer-events=\"none\" text-anchor=\"middle\"/><text fill=\"#FFFFFF\" font-family=\"sans-serif\" font-size=\"10px\" pointer-events=\"none\" text-anchor=\"middle\" x=\"0\" y=\"5\"> paralegal.</text></g><g class=\"node\" transform=\"translate(163.75011509535648,-41.265620253471184)\"><circle class=\"outline\" cx=\"0\" cy=\"0\" fill=\"#F16667\" r=\"25\" stroke=\"#eb2728\" stroke-width=\"2px\"/><text dy=\"1.5625\" fill=\"#FFFFFF\" font-family=\"sans-serif\" font-size=\"25\" pointer-events=\"none\" text-anchor=\"middle\"/><text fill=\"#FFFFFF\" font-family=\"sans-serif\" font-size=\"10px\" pointer-events=\"none\" text-anchor=\"middle\" x=\"0\" y=\"5\"> conveya…</text></g><g class=\"node\" transform=\"translate(16.858604270775803,188.28644955108683)\"><circle class=\"outline\" cx=\"0\" cy=\"0\" fill=\"#F16667\" r=\"25\" stroke=\"#eb2728\" stroke-width=\"2px\"/><text dy=\"1.5625\" fill=\"#FFFFFF\" font-family=\"sans-serif\" font-size=\"25\" pointer-events=\"none\" text-anchor=\"middle\"/><text fill=\"#FFFFFF\" font-family=\"sans-serif\" font-size=\"10px\" pointer-events=\"none\" text-anchor=\"middle\" x=\"0\" y=\"5\"> housing</text></g><g class=\"node\" transform=\"translate(105.853331256102,-56.98642035626572)\"><circle class=\"outline\" cx=\"0\" cy=\"0\" fill=\"#F16667\" r=\"25\" stroke=\"#eb2728\" stroke-width=\"2px\"/><text dy=\"1.5625\" fill=\"#FFFFFF\" font-family=\"sans-serif\" font-size=\"25\" pointer-events=\"none\" text-anchor=\"middle\"/><text fill=\"#FFFFFF\" font-family=\"sans-serif\" font-size=\"10px\" pointer-events=\"none\" text-anchor=\"middle\" x=\"0\" y=\"5\"> 2-3</text></g><g class=\"node\" transform=\"translate(43.69126810565122,-37.27632127464434)\"><circle class=\"outline\" cx=\"0\" cy=\"0\" fill=\"#F16667\" r=\"25\" stroke=\"#eb2728\" stroke-width=\"2px\"/><text dy=\"1.5625\" fill=\"#FFFFFF\" font-family=\"sans-serif\" font-size=\"25\" pointer-events=\"none\" text-anchor=\"middle\"/><text fill=\"#FFFFFF\" font-family=\"sans-serif\" font-size=\"10px\" pointer-events=\"none\" text-anchor=\"middle\" x=\"0\" y=\"5\"> level</text></g><g class=\"node\" transform=\"translate(-9.620526255988986,-6.715569231664302)\"><circle class=\"outline\" cx=\"0\" cy=\"0\" fill=\"#F16667\" r=\"25\" stroke=\"#eb2728\" stroke-width=\"2px\"/><text dy=\"1.5625\" fill=\"#FFFFFF\" font-family=\"sans-serif\" font-size=\"25\" pointer-events=\"none\" text-anchor=\"middle\"/><text fill=\"#FFFFFF\" font-family=\"sans-serif\" font-size=\"10px\" pointer-events=\"none\" text-anchor=\"middle\" x=\"0\" y=\"5\"> court</text></g><g class=\"node\" transform=\"translate(30.143496335117216,38.204500520469956)\"><circle class=\"outline\" cx=\"0\" cy=\"0\" fill=\"#F16667\" r=\"25\" stroke=\"#eb2728\" stroke-width=\"2px\"/><text dy=\"1.5625\" fill=\"#FFFFFF\" font-family=\"sans-serif\" font-size=\"25\" pointer-events=\"none\" text-anchor=\"middle\"/><text fill=\"#FFFFFF\" font-family=\"sans-serif\" font-size=\"10px\" pointer-events=\"none\" text-anchor=\"middle\" x=\"0\" y=\"5\"> &amp;160;</text></g><g class=\"node\" transform=\"translate(-42.17853121769016,46.93029950320935)\"><circle class=\"outline\" cx=\"0\" cy=\"0\" fill=\"#F16667\" r=\"25\" stroke=\"#eb2728\" stroke-width=\"2px\"/><text dy=\"1.5625\" fill=\"#FFFFFF\" font-family=\"sans-serif\" font-size=\"25\" pointer-events=\"none\" text-anchor=\"middle\"/><text fill=\"#FFFFFF\" font-family=\"sans-serif\" font-size=\"10px\" pointer-events=\"none\" text-anchor=\"middle\" x=\"0\" y=\"5\"> technical</text></g><g class=\"node\" transform=\"translate(-4.41245940394177,104.79592920944647)\"><circle class=\"outline\" cx=\"0\" cy=\"0\" fill=\"#F16667\" r=\"25\" stroke=\"#eb2728\" stroke-width=\"2px\"/><text dy=\"1.5625\" fill=\"#FFFFFF\" font-family=\"sans-serif\" font-size=\"25\" pointer-events=\"none\" text-anchor=\"middle\"/><text fill=\"#FFFFFF\" font-family=\"sans-serif\" font-size=\"10px\" pointer-events=\"none\" text-anchor=\"middle\" x=\"0\" y=\"5\"> peterbor…</text></g><g class=\"node\" transform=\"translate(-64.27873311741841,108.55966574947418)\"><circle class=\"outline\" cx=\"0\" cy=\"0\" fill=\"#F16667\" r=\"25\" stroke=\"#eb2728\" stroke-width=\"2px\"/><text dy=\"1.5625\" fill=\"#FFFFFF\" font-family=\"sans-serif\" font-size=\"25\" pointer-events=\"none\" text-anchor=\"middle\"/><text fill=\"#FFFFFF\" font-family=\"sans-serif\" font-size=\"10px\" pointer-events=\"none\" text-anchor=\"middle\" x=\"0\" y=\"5\"> 26.5k</text></g><g class=\"node\" transform=\"translate(-29.723918861316086,226.07547015175376)\"><circle class=\"outline\" cx=\"0\" cy=\"0\" fill=\"#F16667\" r=\"25\" stroke=\"#eb2728\" stroke-width=\"2px\"/><text dy=\"1.5625\" fill=\"#FFFFFF\" font-family=\"sans-serif\" font-size=\"25\" pointer-events=\"none\" text-anchor=\"middle\"/><text fill=\"#FFFFFF\" font-family=\"sans-serif\" font-size=\"10px\" pointer-events=\"none\" text-anchor=\"middle\" x=\"0\" y=\"5\"> employ…</text></g><g class=\"node\" transform=\"translate(-47.44009473099154,166.1448788499096)\"><circle class=\"outline\" cx=\"0\" cy=\"0\" fill=\"#F16667\" r=\"25\" stroke=\"#eb2728\" stroke-width=\"2px\"/><text dy=\"1.5625\" fill=\"#FFFFFF\" font-family=\"sans-serif\" font-size=\"25\" pointer-events=\"none\" text-anchor=\"middle\"/><text fill=\"#FFFFFF\" font-family=\"sans-serif\" font-size=\"10px\" pointer-events=\"none\" text-anchor=\"middle\" x=\"0\" y=\"5\"> conveya…</text></g><g class=\"node\" transform=\"translate(70.26216131568043,241.42130885477073)\"><circle class=\"outline\" cx=\"0\" cy=\"0\" fill=\"#F16667\" r=\"25\" stroke=\"#eb2728\" stroke-width=\"2px\"/><text dy=\"1.5625\" fill=\"#FFFFFF\" font-family=\"sans-serif\" font-size=\"25\" pointer-events=\"none\" text-anchor=\"middle\"/><text fill=\"#FFFFFF\" font-family=\"sans-serif\" font-size=\"10px\" pointer-events=\"none\" text-anchor=\"middle\" x=\"0\" y=\"5\"> london</text></g><g class=\"node\" transform=\"translate(17.4464748225927,269.8710906362274)\"><circle class=\"outline\" cx=\"0\" cy=\"0\" fill=\"#F16667\" r=\"25\" stroke=\"#eb2728\" stroke-width=\"2px\"/><text dy=\"1.5625\" fill=\"#FFFFFF\" font-family=\"sans-serif\" font-size=\"25\" pointer-events=\"none\" text-anchor=\"middle\"/><text fill=\"#FFFFFF\" font-family=\"sans-serif\" font-size=\"10px\" pointer-events=\"none\" text-anchor=\"middle\" x=\"0\" y=\"5\"> circa</text></g><g class=\"node\" transform=\"translate(90.82471852758471,297.7487271081304)\"><circle class=\"outline\" cx=\"0\" cy=\"0\" fill=\"#F16667\" r=\"25\" stroke=\"#eb2728\" stroke-width=\"2px\"/><text dy=\"1.5625\" fill=\"#FFFFFF\" font-family=\"sans-serif\" font-size=\"25\" pointer-events=\"none\" text-anchor=\"middle\"/><text fill=\"#FFFFFF\" font-family=\"sans-serif\" font-size=\"10px\" pointer-events=\"none\" text-anchor=\"middle\" x=\"0\" y=\"5\"> litigation</text></g></g></svg>"
          },
          "metadata": {
            "tags": []
          }
        }
      ]
    },
    {
      "cell_type": "markdown",
      "metadata": {
        "id": "KjVwHpe0PQvm"
      },
      "source": [
        "With this relationship we can analyze the category of the jobs required in some cities and the titles used in the offers"
      ]
    },
    {
      "cell_type": "markdown",
      "metadata": {
        "id": "SOw4mLY3s2BO"
      },
      "source": [
        "##ML problem"
      ]
    },
    {
      "cell_type": "markdown",
      "metadata": {
        "id": "UoKiDIlMuYyF"
      },
      "source": [
        "Try to get the category of the job based in the salary offered\n",
        "\n",
        "First, the data of salary will be clean, then differents models will be train"
      ]
    },
    {
      "cell_type": "code",
      "metadata": {
        "id": "-DLN-Vqfgds4"
      },
      "source": [
        "import re\n",
        "def getNumbers(str):\n",
        "    array = re.findall(r'[0-9]+', str)\n",
        "    return array"
      ],
      "execution_count": 27,
      "outputs": []
    },
    {
      "cell_type": "code",
      "metadata": {
        "id": "tqEDiUhCiwNd"
      },
      "source": [
        "reedSalary = reed.copy()"
      ],
      "execution_count": 28,
      "outputs": []
    },
    {
      "cell_type": "code",
      "metadata": {
        "id": "CN5tqlWsgeqV"
      },
      "source": [
        "for index,i in reedSalary.iterrows():\n",
        "  salary=reedSalary['salary_offered'][index]\n",
        "  num=getNumbers(salary)\n",
        "  if len(num)==4:\n",
        "    if len(num[0])==1:\n",
        "      reedSalary['salary_offered'][index]=float(num[0])\n",
        "    else:\n",
        "      min=float(num[0]+num[1])\n",
        "      max=float(num[2]+num[3])\n",
        "      reedSalary['salary_offered'][index]=(max+min)/2\n",
        "  elif len(num)==2:\n",
        "    if len(num[0])==1:\n",
        "      reedSalary['salary_offered'][index]=float(num[0])\n",
        "    else:\n",
        "      min=float(num[0]+num[1])\n",
        "    \n",
        "      reedSalary['salary_offered'][index]=min"
      ],
      "execution_count": 29,
      "outputs": []
    },
    {
      "cell_type": "code",
      "metadata": {
        "colab": {
          "base_uri": "https://localhost:8080/",
          "height": 810
        },
        "id": "hfMMx4BPhYWW",
        "outputId": "78493c80-f48d-4057-8537-3dc994b552ab"
      },
      "source": [
        "reedSalary"
      ],
      "execution_count": 30,
      "outputs": [
        {
          "output_type": "execute_result",
          "data": {
            "text/html": [
              "<div>\n",
              "<style scoped>\n",
              "    .dataframe tbody tr th:only-of-type {\n",
              "        vertical-align: middle;\n",
              "    }\n",
              "\n",
              "    .dataframe tbody tr th {\n",
              "        vertical-align: top;\n",
              "    }\n",
              "\n",
              "    .dataframe thead th {\n",
              "        text-align: right;\n",
              "    }\n",
              "</style>\n",
              "<table border=\"1\" class=\"dataframe\">\n",
              "  <thead>\n",
              "    <tr style=\"text-align: right;\">\n",
              "      <th></th>\n",
              "      <th>category</th>\n",
              "      <th>city</th>\n",
              "      <th>company_name</th>\n",
              "      <th>job_description</th>\n",
              "      <th>job_requirements</th>\n",
              "      <th>job_title</th>\n",
              "      <th>job_type</th>\n",
              "      <th>salary_offered</th>\n",
              "      <th>category_list</th>\n",
              "      <th>job_title_list</th>\n",
              "      <th>city_list</th>\n",
              "    </tr>\n",
              "  </thead>\n",
              "  <tbody>\n",
              "    <tr>\n",
              "      <th>3</th>\n",
              "      <td>law jobs</td>\n",
              "      <td>Hurstpierpoint</td>\n",
              "      <td>Castles Solicitors</td>\n",
              "      <td>castles solicitors looking part full time lega...</td>\n",
              "      <td>admin case management correspondence legal sol...</td>\n",
              "      <td>legal secretary admin assistant</td>\n",
              "      <td>permanent, full-time part-time</td>\n",
              "      <td>16000</td>\n",
              "      <td>[law]</td>\n",
              "      <td>[legal, secretary, admin, assistant]</td>\n",
              "      <td>[Hurstpierpoint]</td>\n",
              "    </tr>\n",
              "    <tr>\n",
              "      <th>7</th>\n",
              "      <td>motoring automotive jobs</td>\n",
              "      <td>Luton</td>\n",
              "      <td>Fine Recruiting Ltd</td>\n",
              "      <td>an exciting opportunity start new accident rep...</td>\n",
              "      <td>accident paint repair spray paint</td>\n",
              "      <td>vehicle paint sprayer</td>\n",
              "      <td>permanent, full-time</td>\n",
              "      <td>37500</td>\n",
              "      <td>[motoring, automotive]</td>\n",
              "      <td>[vehicle, paint, sprayer]</td>\n",
              "      <td>[Luton]</td>\n",
              "    </tr>\n",
              "    <tr>\n",
              "      <th>9</th>\n",
              "      <td>law jobs</td>\n",
              "      <td>Leeds</td>\n",
              "      <td>Rachel Clark Legal Recruitment</td>\n",
              "      <td>this highly regarded, top law firm north engla...</td>\n",
              "      <td>diary management legal secretarial typing</td>\n",
              "      <td>legal secretary</td>\n",
              "      <td>permanent, full-time</td>\n",
              "      <td>21500</td>\n",
              "      <td>[law]</td>\n",
              "      <td>[legal, secretary]</td>\n",
              "      <td>[Leeds]</td>\n",
              "    </tr>\n",
              "    <tr>\n",
              "      <th>10</th>\n",
              "      <td>motoring automotive jobs</td>\n",
              "      <td>Bermuda Park</td>\n",
              "      <td>Keastone Recruitment</td>\n",
              "      <td>the opportunity this remarkable opportunity jo...</td>\n",
              "      <td>car dealership sales sales executive sales team</td>\n",
              "      <td>sales executive (automotive main dealer)</td>\n",
              "      <td>permanent, full-time</td>\n",
              "      <td>26000</td>\n",
              "      <td>[motoring, automotive]</td>\n",
              "      <td>[sales, executive, (automotive, main, dealer)]</td>\n",
              "      <td>[Bermuda Park]</td>\n",
              "    </tr>\n",
              "    <tr>\n",
              "      <th>15</th>\n",
              "      <td>catering jobs</td>\n",
              "      <td>Wooburn Green</td>\n",
              "      <td>Leisure People Recruitment</td>\n",
              "      <td>our client looking recruit committed, enthusia...</td>\n",
              "      <td>chef line chef commis chef cook kitchen staff ...</td>\n",
              "      <td>line chef part time - large private members club</td>\n",
              "      <td>permanent, part-time</td>\n",
              "      <td>8</td>\n",
              "      <td>[catering]</td>\n",
              "      <td>[line, chef, part, time, -, large, private, me...</td>\n",
              "      <td>[Wooburn Green]</td>\n",
              "    </tr>\n",
              "    <tr>\n",
              "      <th>...</th>\n",
              "      <td>...</td>\n",
              "      <td>...</td>\n",
              "      <td>...</td>\n",
              "      <td>...</td>\n",
              "      <td>...</td>\n",
              "      <td>...</td>\n",
              "      <td>...</td>\n",
              "      <td>...</td>\n",
              "      <td>...</td>\n",
              "      <td>...</td>\n",
              "      <td>...</td>\n",
              "    </tr>\n",
              "    <tr>\n",
              "      <th>49975</th>\n",
              "      <td>strategy consultancy jobs</td>\n",
              "      <td>Heathrow</td>\n",
              "      <td>Willis Global Ltd</td>\n",
              "      <td>position: global loss prevention analyst repor...</td>\n",
              "      <td>data analysis internal audit loss prevention r...</td>\n",
              "      <td>global loss prevention analyst - retail, londo...</td>\n",
              "      <td>permanent, full-time</td>\n",
              "      <td>30000</td>\n",
              "      <td>[strategy, consultancy]</td>\n",
              "      <td>[global, loss, prevention, analyst, -, retail,...</td>\n",
              "      <td>[Heathrow]</td>\n",
              "    </tr>\n",
              "    <tr>\n",
              "      <th>49978</th>\n",
              "      <td>graduate training internships jobs</td>\n",
              "      <td>Central London</td>\n",
              "      <td>Celsius Graduate Recruitment Limited</td>\n",
              "      <td>graduate business development executiveâ£23k-â...</td>\n",
              "      <td>business development sales software technology...</td>\n",
              "      <td>graduate business development executive - london</td>\n",
              "      <td>permanent, full-time</td>\n",
              "      <td>23500</td>\n",
              "      <td>[graduate, training, internships]</td>\n",
              "      <td>[graduate, business, development, executive, -...</td>\n",
              "      <td>[Central London]</td>\n",
              "    </tr>\n",
              "    <tr>\n",
              "      <th>49987</th>\n",
              "      <td>purchasing jobs</td>\n",
              "      <td>London</td>\n",
              "      <td>Elite</td>\n",
              "      <td>we partnered really unique fashion business cu...</td>\n",
              "      <td>logistics driving licence operations</td>\n",
              "      <td>logistics operations assistant</td>\n",
              "      <td>permanent, full-time</td>\n",
              "      <td>salary negotiable</td>\n",
              "      <td>[purchasing]</td>\n",
              "      <td>[logistics, operations, assistant]</td>\n",
              "      <td>[London]</td>\n",
              "    </tr>\n",
              "    <tr>\n",
              "      <th>49992</th>\n",
              "      <td>purchasing jobs</td>\n",
              "      <td>Northampton</td>\n",
              "      <td>St Andrew's Healthcare</td>\n",
              "      <td>employer's website salary: â£31,592 - â£44,430...</td>\n",
              "      <td>buying procurement strategic sourcing cips</td>\n",
              "      <td>strategic sourcing buyer</td>\n",
              "      <td>permanent, full-time</td>\n",
              "      <td>38011</td>\n",
              "      <td>[purchasing]</td>\n",
              "      <td>[strategic, sourcing, buyer]</td>\n",
              "      <td>[Northampton]</td>\n",
              "    </tr>\n",
              "    <tr>\n",
              "      <th>49998</th>\n",
              "      <td>purchasing jobs</td>\n",
              "      <td>Egham</td>\n",
              "      <td>Concept Human Solutions</td>\n",
              "      <td>understanding, service, trust3 words guarantee...</td>\n",
              "      <td>procurement av</td>\n",
              "      <td>av procurement assistant</td>\n",
              "      <td>permanent, full-time</td>\n",
              "      <td>28750</td>\n",
              "      <td>[purchasing]</td>\n",
              "      <td>[av, procurement, assistant]</td>\n",
              "      <td>[Egham]</td>\n",
              "    </tr>\n",
              "  </tbody>\n",
              "</table>\n",
              "<p>18344 rows × 11 columns</p>\n",
              "</div>"
            ],
            "text/plain": [
              "                                 category  ...         city_list\n",
              "3                                law jobs  ...  [Hurstpierpoint]\n",
              "7                motoring automotive jobs  ...           [Luton]\n",
              "9                                law jobs  ...           [Leeds]\n",
              "10               motoring automotive jobs  ...    [Bermuda Park]\n",
              "15                          catering jobs  ...   [Wooburn Green]\n",
              "...                                   ...  ...               ...\n",
              "49975           strategy consultancy jobs  ...        [Heathrow]\n",
              "49978  graduate training internships jobs  ...  [Central London]\n",
              "49987                     purchasing jobs  ...          [London]\n",
              "49992                     purchasing jobs  ...     [Northampton]\n",
              "49998                     purchasing jobs  ...           [Egham]\n",
              "\n",
              "[18344 rows x 11 columns]"
            ]
          },
          "metadata": {
            "tags": []
          },
          "execution_count": 30
        }
      ]
    },
    {
      "cell_type": "markdown",
      "metadata": {
        "id": "DZ72f4FLzCjO"
      },
      "source": [
        "Not numerical salary will be removed"
      ]
    },
    {
      "cell_type": "code",
      "metadata": {
        "colab": {
          "base_uri": "https://localhost:8080/"
        },
        "id": "5E2LGFjnm2yG",
        "outputId": "afda934f-935d-4536-988e-dfd5ab01617d"
      },
      "source": [
        "reedSalary2 = reedSalary[pd.to_numeric(reedSalary['salary_offered'], errors='coerce').notnull()]\n",
        "reedSalary2['salary_offered']=reedSalary2['salary_offered'].astype('int')"
      ],
      "execution_count": 31,
      "outputs": [
        {
          "output_type": "stream",
          "text": [
            "/usr/local/lib/python3.7/dist-packages/ipykernel_launcher.py:2: SettingWithCopyWarning: \n",
            "A value is trying to be set on a copy of a slice from a DataFrame.\n",
            "Try using .loc[row_indexer,col_indexer] = value instead\n",
            "\n",
            "See the caveats in the documentation: https://pandas.pydata.org/pandas-docs/stable/user_guide/indexing.html#returning-a-view-versus-a-copy\n",
            "  \n"
          ],
          "name": "stderr"
        }
      ]
    },
    {
      "cell_type": "code",
      "metadata": {
        "colab": {
          "base_uri": "https://localhost:8080/",
          "height": 810
        },
        "id": "Rqrao0qcn1MP",
        "outputId": "771741cc-6350-4c01-94ce-4f101bebd723"
      },
      "source": [
        "reedSalary2"
      ],
      "execution_count": 32,
      "outputs": [
        {
          "output_type": "execute_result",
          "data": {
            "text/html": [
              "<div>\n",
              "<style scoped>\n",
              "    .dataframe tbody tr th:only-of-type {\n",
              "        vertical-align: middle;\n",
              "    }\n",
              "\n",
              "    .dataframe tbody tr th {\n",
              "        vertical-align: top;\n",
              "    }\n",
              "\n",
              "    .dataframe thead th {\n",
              "        text-align: right;\n",
              "    }\n",
              "</style>\n",
              "<table border=\"1\" class=\"dataframe\">\n",
              "  <thead>\n",
              "    <tr style=\"text-align: right;\">\n",
              "      <th></th>\n",
              "      <th>category</th>\n",
              "      <th>city</th>\n",
              "      <th>company_name</th>\n",
              "      <th>job_description</th>\n",
              "      <th>job_requirements</th>\n",
              "      <th>job_title</th>\n",
              "      <th>job_type</th>\n",
              "      <th>salary_offered</th>\n",
              "      <th>category_list</th>\n",
              "      <th>job_title_list</th>\n",
              "      <th>city_list</th>\n",
              "    </tr>\n",
              "  </thead>\n",
              "  <tbody>\n",
              "    <tr>\n",
              "      <th>3</th>\n",
              "      <td>law jobs</td>\n",
              "      <td>Hurstpierpoint</td>\n",
              "      <td>Castles Solicitors</td>\n",
              "      <td>castles solicitors looking part full time lega...</td>\n",
              "      <td>admin case management correspondence legal sol...</td>\n",
              "      <td>legal secretary admin assistant</td>\n",
              "      <td>permanent, full-time part-time</td>\n",
              "      <td>16000</td>\n",
              "      <td>[law]</td>\n",
              "      <td>[legal, secretary, admin, assistant]</td>\n",
              "      <td>[Hurstpierpoint]</td>\n",
              "    </tr>\n",
              "    <tr>\n",
              "      <th>7</th>\n",
              "      <td>motoring automotive jobs</td>\n",
              "      <td>Luton</td>\n",
              "      <td>Fine Recruiting Ltd</td>\n",
              "      <td>an exciting opportunity start new accident rep...</td>\n",
              "      <td>accident paint repair spray paint</td>\n",
              "      <td>vehicle paint sprayer</td>\n",
              "      <td>permanent, full-time</td>\n",
              "      <td>37500</td>\n",
              "      <td>[motoring, automotive]</td>\n",
              "      <td>[vehicle, paint, sprayer]</td>\n",
              "      <td>[Luton]</td>\n",
              "    </tr>\n",
              "    <tr>\n",
              "      <th>9</th>\n",
              "      <td>law jobs</td>\n",
              "      <td>Leeds</td>\n",
              "      <td>Rachel Clark Legal Recruitment</td>\n",
              "      <td>this highly regarded, top law firm north engla...</td>\n",
              "      <td>diary management legal secretarial typing</td>\n",
              "      <td>legal secretary</td>\n",
              "      <td>permanent, full-time</td>\n",
              "      <td>21500</td>\n",
              "      <td>[law]</td>\n",
              "      <td>[legal, secretary]</td>\n",
              "      <td>[Leeds]</td>\n",
              "    </tr>\n",
              "    <tr>\n",
              "      <th>10</th>\n",
              "      <td>motoring automotive jobs</td>\n",
              "      <td>Bermuda Park</td>\n",
              "      <td>Keastone Recruitment</td>\n",
              "      <td>the opportunity this remarkable opportunity jo...</td>\n",
              "      <td>car dealership sales sales executive sales team</td>\n",
              "      <td>sales executive (automotive main dealer)</td>\n",
              "      <td>permanent, full-time</td>\n",
              "      <td>26000</td>\n",
              "      <td>[motoring, automotive]</td>\n",
              "      <td>[sales, executive, (automotive, main, dealer)]</td>\n",
              "      <td>[Bermuda Park]</td>\n",
              "    </tr>\n",
              "    <tr>\n",
              "      <th>15</th>\n",
              "      <td>catering jobs</td>\n",
              "      <td>Wooburn Green</td>\n",
              "      <td>Leisure People Recruitment</td>\n",
              "      <td>our client looking recruit committed, enthusia...</td>\n",
              "      <td>chef line chef commis chef cook kitchen staff ...</td>\n",
              "      <td>line chef part time - large private members club</td>\n",
              "      <td>permanent, part-time</td>\n",
              "      <td>8</td>\n",
              "      <td>[catering]</td>\n",
              "      <td>[line, chef, part, time, -, large, private, me...</td>\n",
              "      <td>[Wooburn Green]</td>\n",
              "    </tr>\n",
              "    <tr>\n",
              "      <th>...</th>\n",
              "      <td>...</td>\n",
              "      <td>...</td>\n",
              "      <td>...</td>\n",
              "      <td>...</td>\n",
              "      <td>...</td>\n",
              "      <td>...</td>\n",
              "      <td>...</td>\n",
              "      <td>...</td>\n",
              "      <td>...</td>\n",
              "      <td>...</td>\n",
              "      <td>...</td>\n",
              "    </tr>\n",
              "    <tr>\n",
              "      <th>49970</th>\n",
              "      <td>strategy consultancy jobs</td>\n",
              "      <td>Charlestown</td>\n",
              "      <td>Equals One</td>\n",
              "      <td>service operations manager the spot salary pos...</td>\n",
              "      <td>call centre contact centre housing management ...</td>\n",
              "      <td>service operations manager</td>\n",
              "      <td>permanent, full-time</td>\n",
              "      <td>43609</td>\n",
              "      <td>[strategy, consultancy]</td>\n",
              "      <td>[service, operations, manager]</td>\n",
              "      <td>[Charlestown]</td>\n",
              "    </tr>\n",
              "    <tr>\n",
              "      <th>49975</th>\n",
              "      <td>strategy consultancy jobs</td>\n",
              "      <td>Heathrow</td>\n",
              "      <td>Willis Global Ltd</td>\n",
              "      <td>position: global loss prevention analyst repor...</td>\n",
              "      <td>data analysis internal audit loss prevention r...</td>\n",
              "      <td>global loss prevention analyst - retail, londo...</td>\n",
              "      <td>permanent, full-time</td>\n",
              "      <td>30000</td>\n",
              "      <td>[strategy, consultancy]</td>\n",
              "      <td>[global, loss, prevention, analyst, -, retail,...</td>\n",
              "      <td>[Heathrow]</td>\n",
              "    </tr>\n",
              "    <tr>\n",
              "      <th>49978</th>\n",
              "      <td>graduate training internships jobs</td>\n",
              "      <td>Central London</td>\n",
              "      <td>Celsius Graduate Recruitment Limited</td>\n",
              "      <td>graduate business development executiveâ£23k-â...</td>\n",
              "      <td>business development sales software technology...</td>\n",
              "      <td>graduate business development executive - london</td>\n",
              "      <td>permanent, full-time</td>\n",
              "      <td>23500</td>\n",
              "      <td>[graduate, training, internships]</td>\n",
              "      <td>[graduate, business, development, executive, -...</td>\n",
              "      <td>[Central London]</td>\n",
              "    </tr>\n",
              "    <tr>\n",
              "      <th>49992</th>\n",
              "      <td>purchasing jobs</td>\n",
              "      <td>Northampton</td>\n",
              "      <td>St Andrew's Healthcare</td>\n",
              "      <td>employer's website salary: â£31,592 - â£44,430...</td>\n",
              "      <td>buying procurement strategic sourcing cips</td>\n",
              "      <td>strategic sourcing buyer</td>\n",
              "      <td>permanent, full-time</td>\n",
              "      <td>38011</td>\n",
              "      <td>[purchasing]</td>\n",
              "      <td>[strategic, sourcing, buyer]</td>\n",
              "      <td>[Northampton]</td>\n",
              "    </tr>\n",
              "    <tr>\n",
              "      <th>49998</th>\n",
              "      <td>purchasing jobs</td>\n",
              "      <td>Egham</td>\n",
              "      <td>Concept Human Solutions</td>\n",
              "      <td>understanding, service, trust3 words guarantee...</td>\n",
              "      <td>procurement av</td>\n",
              "      <td>av procurement assistant</td>\n",
              "      <td>permanent, full-time</td>\n",
              "      <td>28750</td>\n",
              "      <td>[purchasing]</td>\n",
              "      <td>[av, procurement, assistant]</td>\n",
              "      <td>[Egham]</td>\n",
              "    </tr>\n",
              "  </tbody>\n",
              "</table>\n",
              "<p>15586 rows × 11 columns</p>\n",
              "</div>"
            ],
            "text/plain": [
              "                                 category  ...         city_list\n",
              "3                                law jobs  ...  [Hurstpierpoint]\n",
              "7                motoring automotive jobs  ...           [Luton]\n",
              "9                                law jobs  ...           [Leeds]\n",
              "10               motoring automotive jobs  ...    [Bermuda Park]\n",
              "15                          catering jobs  ...   [Wooburn Green]\n",
              "...                                   ...  ...               ...\n",
              "49970           strategy consultancy jobs  ...     [Charlestown]\n",
              "49975           strategy consultancy jobs  ...        [Heathrow]\n",
              "49978  graduate training internships jobs  ...  [Central London]\n",
              "49992                     purchasing jobs  ...     [Northampton]\n",
              "49998                     purchasing jobs  ...           [Egham]\n",
              "\n",
              "[15586 rows x 11 columns]"
            ]
          },
          "metadata": {
            "tags": []
          },
          "execution_count": 32
        }
      ]
    },
    {
      "cell_type": "code",
      "metadata": {
        "id": "BK7XR_T8oZ3x"
      },
      "source": [
        "reedML=reedSalary2.drop(['job_description','job_requirements','job_type','company_name','city','category_list','job_title_list','city_list','job_title'],axis=1)\n",
        "from sklearn.model_selection import train_test_split\n",
        "X=reedML.drop(['category'], axis=1)\n",
        "y=reedML['category']\n",
        "\n",
        "\n",
        "X_train, X_test, y_train, y_test = train_test_split(X, y, test_size=.30)"
      ],
      "execution_count": 33,
      "outputs": []
    },
    {
      "cell_type": "markdown",
      "metadata": {
        "id": "NVqBne67utGU"
      },
      "source": [
        "Models trained: Decision Tree, K-Neighbors and Naive Bayes."
      ]
    },
    {
      "cell_type": "code",
      "metadata": {
        "colab": {
          "base_uri": "https://localhost:8080/"
        },
        "id": "ix9dWkAHpUcr",
        "outputId": "81de9eec-96dc-4f86-b89e-1a132e749aa5"
      },
      "source": [
        "from sklearn.tree import DecisionTreeClassifier\n",
        "from sklearn.metrics import accuracy_score, f1_score, recall_score, precision_score\n",
        "DTC=DecisionTreeClassifier()\n",
        "DTC.fit(X_train,y_train)\n",
        "y_pred=DTC.predict(X_test)\n",
        "print('Accuracy', accuracy_score(y_test,y_pred))\n",
        "print('F1 score', f1_score(y_test,y_pred,average='weighted'))\n",
        "print('Recall', recall_score(y_test,y_pred,average='weighted'))\n",
        "print('Precision', precision_score(y_test,y_pred,average='weighted'))"
      ],
      "execution_count": 34,
      "outputs": [
        {
          "output_type": "stream",
          "text": [
            "Accuracy 0.1621043627031651\n",
            "F1 score 0.1391689539446899\n",
            "Recall 0.1621043627031651\n",
            "Precision 0.18101594813133698\n"
          ],
          "name": "stdout"
        },
        {
          "output_type": "stream",
          "text": [
            "/usr/local/lib/python3.7/dist-packages/sklearn/metrics/_classification.py:1272: UndefinedMetricWarning: Precision is ill-defined and being set to 0.0 in labels with no predicted samples. Use `zero_division` parameter to control this behavior.\n",
            "  _warn_prf(average, modifier, msg_start, len(result))\n"
          ],
          "name": "stderr"
        }
      ]
    },
    {
      "cell_type": "code",
      "metadata": {
        "colab": {
          "base_uri": "https://localhost:8080/"
        },
        "id": "oIFf_dHRsWCa",
        "outputId": "50765c34-8145-4864-c565-c1ae6ccd7c49"
      },
      "source": [
        "from sklearn.neighbors import KNeighborsClassifier\n",
        "KN=KNeighborsClassifier()\n",
        "KN.fit(X_train,y_train)\n",
        "y_pred=KN.predict(X_test)\n",
        "print('Accuracy', accuracy_score(y_test,y_pred))\n",
        "print('F1 score', f1_score(y_test,y_pred,average='weighted'))\n",
        "print('Recall', recall_score(y_test,y_pred,average='weighted'))\n",
        "print('Precision', precision_score(y_test,y_pred,average='weighted'))"
      ],
      "execution_count": 35,
      "outputs": [
        {
          "output_type": "stream",
          "text": [
            "Accuracy 0.11869118905047049\n",
            "F1 score 0.10986480874280813\n",
            "Recall 0.11869118905047049\n",
            "Precision 0.1432680087433744\n"
          ],
          "name": "stdout"
        },
        {
          "output_type": "stream",
          "text": [
            "/usr/local/lib/python3.7/dist-packages/sklearn/metrics/_classification.py:1272: UndefinedMetricWarning: Precision is ill-defined and being set to 0.0 in labels with no predicted samples. Use `zero_division` parameter to control this behavior.\n",
            "  _warn_prf(average, modifier, msg_start, len(result))\n"
          ],
          "name": "stderr"
        }
      ]
    },
    {
      "cell_type": "code",
      "metadata": {
        "colab": {
          "base_uri": "https://localhost:8080/"
        },
        "id": "gPulmwT7sol1",
        "outputId": "50095d20-a9de-4e64-aa1c-13226300cdb3"
      },
      "source": [
        "from sklearn.naive_bayes import GaussianNB\n",
        "NB=GaussianNB()\n",
        "NB.fit(X_train,y_train)\n",
        "y_pred=NB.predict(X_test)\n",
        "print('Accuracy', accuracy_score(y_test,y_pred))\n",
        "print('F1 score', f1_score(y_test,y_pred,average='weighted'))\n",
        "print('Recall', recall_score(y_test,y_pred,average='weighted'))\n",
        "print('Precision', precision_score(y_test,y_pred,average='weighted'))"
      ],
      "execution_count": 36,
      "outputs": [
        {
          "output_type": "stream",
          "text": [
            "Accuracy 0.08212147134302823\n",
            "F1 score 0.041213617709541996\n",
            "Recall 0.08212147134302823\n",
            "Precision 0.039621276957590906\n"
          ],
          "name": "stdout"
        },
        {
          "output_type": "stream",
          "text": [
            "/usr/local/lib/python3.7/dist-packages/sklearn/metrics/_classification.py:1272: UndefinedMetricWarning: Precision is ill-defined and being set to 0.0 in labels with no predicted samples. Use `zero_division` parameter to control this behavior.\n",
            "  _warn_prf(average, modifier, msg_start, len(result))\n"
          ],
          "name": "stderr"
        }
      ]
    },
    {
      "cell_type": "markdown",
      "metadata": {
        "id": "eUDF8mnzu4sO"
      },
      "source": [
        "From the results obtained, is clearly that the result wasn't the expected, this can be for the type of the salary, it can be better, for another approach, group the salary in intervals.\n",
        "\n",
        "Also the data is not to very related between columns so predict something is very hard and the type of the data don't help."
      ]
    },
    {
      "cell_type": "code",
      "metadata": {
        "id": "X5fKW74izAOf"
      },
      "source": [
        ""
      ],
      "execution_count": null,
      "outputs": []
    }
  ]
}