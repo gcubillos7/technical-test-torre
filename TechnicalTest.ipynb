{
  "nbformat": 4,
  "nbformat_minor": 0,
  "metadata": {
    "colab": {
      "name": "TechnicalTest.ipynb",
      "provenance": [],
      "collapsed_sections": [],
      "authorship_tag": "ABX9TyNXn3eRfCH1uTbo2pltGN3K",
      "include_colab_link": true
    },
    "kernelspec": {
      "name": "python3",
      "display_name": "Python 3"
    },
    "language_info": {
      "name": "python"
    }
  },
  "cells": [
    {
      "cell_type": "markdown",
      "metadata": {
        "id": "view-in-github",
        "colab_type": "text"
      },
      "source": [
        "<a href=\"https://colab.research.google.com/github/gcubillos7/technical-test-torre/blob/main/TechnicalTest.ipynb\" target=\"_parent\"><img src=\"https://colab.research.google.com/assets/colab-badge.svg\" alt=\"Open In Colab\"/></a>"
      ]
    },
    {
      "cell_type": "code",
      "metadata": {
        "id": "A7nUqXeABmzp",
        "colab": {
          "base_uri": "https://localhost:8080/"
        },
        "outputId": "a7bcb8bc-f7b4-4a4d-c40f-b3127e04746c"
      },
      "source": [
        "!gdown --id 1EDxy0azg2IbpL0-jRfC4bHlZTnMkrjHH"
      ],
      "execution_count": 1,
      "outputs": [
        {
          "output_type": "stream",
          "text": [
            "Downloading...\n",
            "From: https://drive.google.com/uc?id=1EDxy0azg2IbpL0-jRfC4bHlZTnMkrjHH\n",
            "To: /content/reed_uk.csv\n",
            "109MB [00:00, 177MB/s] \n"
          ],
          "name": "stdout"
        }
      ]
    },
    {
      "cell_type": "code",
      "metadata": {
        "id": "UsaDVX7KBpkP",
        "colab": {
          "base_uri": "https://localhost:8080/"
        },
        "outputId": "dbb66258-ade1-4cbe-ebab-75d245411d2b"
      },
      "source": [
        "import pandas as pd\n",
        "import numpy as np\n",
        "import nltk\n",
        "nltk.download('stopwords')\n",
        "nltk.download('punkt')\n",
        "from nltk.corpus import stopwords"
      ],
      "execution_count": 2,
      "outputs": [
        {
          "output_type": "stream",
          "text": [
            "[nltk_data] Downloading package stopwords to /root/nltk_data...\n",
            "[nltk_data]   Package stopwords is already up-to-date!\n",
            "[nltk_data] Downloading package punkt to /root/nltk_data...\n",
            "[nltk_data]   Package punkt is already up-to-date!\n"
          ],
          "name": "stdout"
        }
      ]
    },
    {
      "cell_type": "code",
      "metadata": {
        "id": "wFBm5dB0CMFD"
      },
      "source": [
        "reed=pd.read_csv('/content/reed_uk.csv')"
      ],
      "execution_count": 3,
      "outputs": []
    },
    {
      "cell_type": "code",
      "metadata": {
        "id": "CzBj5njzCSy9",
        "colab": {
          "base_uri": "https://localhost:8080/",
          "height": 529
        },
        "outputId": "2b4fb05e-965c-4830-f607-02aabee0eb0c"
      },
      "source": [
        "reed.head(10)"
      ],
      "execution_count": 4,
      "outputs": [
        {
          "output_type": "execute_result",
          "data": {
            "text/html": [
              "<div>\n",
              "<style scoped>\n",
              "    .dataframe tbody tr th:only-of-type {\n",
              "        vertical-align: middle;\n",
              "    }\n",
              "\n",
              "    .dataframe tbody tr th {\n",
              "        vertical-align: top;\n",
              "    }\n",
              "\n",
              "    .dataframe thead th {\n",
              "        text-align: right;\n",
              "    }\n",
              "</style>\n",
              "<table border=\"1\" class=\"dataframe\">\n",
              "  <thead>\n",
              "    <tr style=\"text-align: right;\">\n",
              "      <th></th>\n",
              "      <th>category</th>\n",
              "      <th>city</th>\n",
              "      <th>company_name</th>\n",
              "      <th>geo</th>\n",
              "      <th>job_board</th>\n",
              "      <th>job_description</th>\n",
              "      <th>job_requirements</th>\n",
              "      <th>job_title</th>\n",
              "      <th>job_type</th>\n",
              "      <th>post_date</th>\n",
              "      <th>salary_offered</th>\n",
              "      <th>state</th>\n",
              "    </tr>\n",
              "  </thead>\n",
              "  <tbody>\n",
              "    <tr>\n",
              "      <th>0</th>\n",
              "      <td>catering jobs</td>\n",
              "      <td>Chudleigh</td>\n",
              "      <td>Haulfryn Group</td>\n",
              "      <td>uk</td>\n",
              "      <td>reed</td>\n",
              "      <td>Apply now New opportunity not to be missed! H...</td>\n",
              "      <td>NaN</td>\n",
              "      <td>Commis Chef</td>\n",
              "      <td>Permanent, full-time</td>\n",
              "      <td>3/12/2018</td>\n",
              "      <td>£18,323 per annum</td>\n",
              "      <td>Devon</td>\n",
              "    </tr>\n",
              "    <tr>\n",
              "      <th>1</th>\n",
              "      <td>law jobs</td>\n",
              "      <td>Swindon</td>\n",
              "      <td>Reed</td>\n",
              "      <td>uk</td>\n",
              "      <td>reed</td>\n",
              "      <td>Apply now This role requires an experienced s...</td>\n",
              "      <td>NaN</td>\n",
              "      <td>Corporate Legal Secretary</td>\n",
              "      <td>Permanent, full-time</td>\n",
              "      <td>3/8/2018</td>\n",
              "      <td>£18,000 - £22,000 per annum</td>\n",
              "      <td>Wiltshire</td>\n",
              "    </tr>\n",
              "    <tr>\n",
              "      <th>2</th>\n",
              "      <td>factory jobs</td>\n",
              "      <td>Norfolk</td>\n",
              "      <td>Swanstaff Recruitment Ltd</td>\n",
              "      <td>uk</td>\n",
              "      <td>reed</td>\n",
              "      <td>Apply now Job Title: Warehouse personLocation...</td>\n",
              "      <td>NaN</td>\n",
              "      <td>Warehouse Person</td>\n",
              "      <td>Permanent, full-time</td>\n",
              "      <td>2/27/2018</td>\n",
              "      <td>Salary not specified</td>\n",
              "      <td>East Anglia</td>\n",
              "    </tr>\n",
              "    <tr>\n",
              "      <th>3</th>\n",
              "      <td>law jobs</td>\n",
              "      <td>Hurstpierpoint</td>\n",
              "      <td>Castles Solicitors</td>\n",
              "      <td>uk</td>\n",
              "      <td>reed</td>\n",
              "      <td>Apply now Castles Solicitors are looking for ...</td>\n",
              "      <td>Required skills Admin Case Management Corresp...</td>\n",
              "      <td>Legal Secretary / Admin Assistant</td>\n",
              "      <td>Permanent, full-time or part-time</td>\n",
              "      <td>2/21/2018</td>\n",
              "      <td>£15,000 - £17,000 per annum, pro-rata</td>\n",
              "      <td>West Sussex</td>\n",
              "    </tr>\n",
              "    <tr>\n",
              "      <th>4</th>\n",
              "      <td>factory jobs</td>\n",
              "      <td>Hertfordshire</td>\n",
              "      <td>Marketplace Group</td>\n",
              "      <td>uk</td>\n",
              "      <td>reed</td>\n",
              "      <td>Apply now International Pharmaceutical Manufa...</td>\n",
              "      <td>NaN</td>\n",
              "      <td>Category Planner - Pharmaceutical</td>\n",
              "      <td>Permanent, full-time</td>\n",
              "      <td>3/1/2018</td>\n",
              "      <td>£37,000 - £45,000 per annum</td>\n",
              "      <td>South East England</td>\n",
              "    </tr>\n",
              "    <tr>\n",
              "      <th>5</th>\n",
              "      <td>retail jobs</td>\n",
              "      <td>Belfast</td>\n",
              "      <td>Vodafone</td>\n",
              "      <td>uk</td>\n",
              "      <td>reed</td>\n",
              "      <td>Apply on employer's website Retail Advisor - ...</td>\n",
              "      <td>NaN</td>\n",
              "      <td>Retail Adviser 20hrs/week - Belfast Donnegal P...</td>\n",
              "      <td>Permanent, part-time</td>\n",
              "      <td>3/12/2018</td>\n",
              "      <td>£9,100 - £9,152 per annum, OTE</td>\n",
              "      <td>County Antrim</td>\n",
              "    </tr>\n",
              "    <tr>\n",
              "      <th>6</th>\n",
              "      <td>factory jobs</td>\n",
              "      <td>Thetford</td>\n",
              "      <td>Hales Group Limited</td>\n",
              "      <td>uk</td>\n",
              "      <td>reed</td>\n",
              "      <td>Apply now Break Press Operator - Permanent, Â...</td>\n",
              "      <td>NaN</td>\n",
              "      <td>Break Press Operator</td>\n",
              "      <td>Permanent, full-time</td>\n",
              "      <td>2/28/2018</td>\n",
              "      <td>£9.25 - £10.15 per hour</td>\n",
              "      <td>Norfolk</td>\n",
              "    </tr>\n",
              "    <tr>\n",
              "      <th>7</th>\n",
              "      <td>motoring automotive jobs</td>\n",
              "      <td>Luton</td>\n",
              "      <td>Fine Recruiting Ltd</td>\n",
              "      <td>uk</td>\n",
              "      <td>reed</td>\n",
              "      <td>Apply now An exciting opportunity to start wi...</td>\n",
              "      <td>Required skills Accident Paint Repair Spray P...</td>\n",
              "      <td>Vehicle Paint Sprayer</td>\n",
              "      <td>Permanent, full-time</td>\n",
              "      <td>3/2/2018</td>\n",
              "      <td>£35,000 - £40,000 per annum</td>\n",
              "      <td>Bedfordshire</td>\n",
              "    </tr>\n",
              "    <tr>\n",
              "      <th>8</th>\n",
              "      <td>motoring automotive jobs</td>\n",
              "      <td>Blackburn</td>\n",
              "      <td>Audi</td>\n",
              "      <td>uk</td>\n",
              "      <td>reed</td>\n",
              "      <td>Apply on employer's website This exciting opp...</td>\n",
              "      <td>NaN</td>\n",
              "      <td>Vehicle Technician</td>\n",
              "      <td>Permanent, full-time</td>\n",
              "      <td>2/28/2018</td>\n",
              "      <td>£23,000 - £26,600 per annum</td>\n",
              "      <td>Lancashire</td>\n",
              "    </tr>\n",
              "    <tr>\n",
              "      <th>9</th>\n",
              "      <td>law jobs</td>\n",
              "      <td>Leeds</td>\n",
              "      <td>Rachel Clark Legal Recruitment</td>\n",
              "      <td>uk</td>\n",
              "      <td>reed</td>\n",
              "      <td>Apply now This highly regarded, top law firm ...</td>\n",
              "      <td>Required skills Diary Management Legal Secret...</td>\n",
              "      <td>LEGAL SECRETARY</td>\n",
              "      <td>Permanent, full-time</td>\n",
              "      <td>3/12/2018</td>\n",
              "      <td>£18,000 - £25,000 per annum, inc benefits</td>\n",
              "      <td>West Yorkshire</td>\n",
              "    </tr>\n",
              "  </tbody>\n",
              "</table>\n",
              "</div>"
            ],
            "text/plain": [
              "                   category  ...               state\n",
              "0             catering jobs  ...               Devon\n",
              "1                  law jobs  ...           Wiltshire\n",
              "2              factory jobs  ...         East Anglia\n",
              "3                  law jobs  ...         West Sussex\n",
              "4              factory jobs  ...  South East England\n",
              "5               retail jobs  ...       County Antrim\n",
              "6              factory jobs  ...             Norfolk\n",
              "7  motoring automotive jobs  ...        Bedfordshire\n",
              "8  motoring automotive jobs  ...          Lancashire\n",
              "9                  law jobs  ...      West Yorkshire\n",
              "\n",
              "[10 rows x 12 columns]"
            ]
          },
          "metadata": {
            "tags": []
          },
          "execution_count": 4
        }
      ]
    },
    {
      "cell_type": "code",
      "metadata": {
        "id": "c0f3JBf0Wzpi",
        "colab": {
          "base_uri": "https://localhost:8080/",
          "height": 173
        },
        "outputId": "325f66e9-a0c8-4072-dc74-b7879016f9e9"
      },
      "source": [
        "reed.describe()"
      ],
      "execution_count": 5,
      "outputs": [
        {
          "output_type": "execute_result",
          "data": {
            "text/html": [
              "<div>\n",
              "<style scoped>\n",
              "    .dataframe tbody tr th:only-of-type {\n",
              "        vertical-align: middle;\n",
              "    }\n",
              "\n",
              "    .dataframe tbody tr th {\n",
              "        vertical-align: top;\n",
              "    }\n",
              "\n",
              "    .dataframe thead th {\n",
              "        text-align: right;\n",
              "    }\n",
              "</style>\n",
              "<table border=\"1\" class=\"dataframe\">\n",
              "  <thead>\n",
              "    <tr style=\"text-align: right;\">\n",
              "      <th></th>\n",
              "      <th>category</th>\n",
              "      <th>city</th>\n",
              "      <th>company_name</th>\n",
              "      <th>geo</th>\n",
              "      <th>job_board</th>\n",
              "      <th>job_description</th>\n",
              "      <th>job_requirements</th>\n",
              "      <th>job_title</th>\n",
              "      <th>job_type</th>\n",
              "      <th>post_date</th>\n",
              "      <th>salary_offered</th>\n",
              "      <th>state</th>\n",
              "    </tr>\n",
              "  </thead>\n",
              "  <tbody>\n",
              "    <tr>\n",
              "      <th>count</th>\n",
              "      <td>50000</td>\n",
              "      <td>50000</td>\n",
              "      <td>50000</td>\n",
              "      <td>50000</td>\n",
              "      <td>50000</td>\n",
              "      <td>50000</td>\n",
              "      <td>20548</td>\n",
              "      <td>50000</td>\n",
              "      <td>50000</td>\n",
              "      <td>50000</td>\n",
              "      <td>50000</td>\n",
              "      <td>49980</td>\n",
              "    </tr>\n",
              "    <tr>\n",
              "      <th>unique</th>\n",
              "      <td>37</td>\n",
              "      <td>2918</td>\n",
              "      <td>5166</td>\n",
              "      <td>1</td>\n",
              "      <td>1</td>\n",
              "      <td>42057</td>\n",
              "      <td>14887</td>\n",
              "      <td>29155</td>\n",
              "      <td>9</td>\n",
              "      <td>66</td>\n",
              "      <td>7345</td>\n",
              "      <td>167</td>\n",
              "    </tr>\n",
              "    <tr>\n",
              "      <th>top</th>\n",
              "      <td>health jobs</td>\n",
              "      <td>London</td>\n",
              "      <td>Hays Specialist Recruitment Limited</td>\n",
              "      <td>uk</td>\n",
              "      <td>reed</td>\n",
              "      <td>Apply on employer's website Add an annual tur...</td>\n",
              "      <td>Required skills Recruitment</td>\n",
              "      <td>Administrator</td>\n",
              "      <td>Permanent, full-time</td>\n",
              "      <td>3/7/2018</td>\n",
              "      <td>Salary negotiable</td>\n",
              "      <td>London</td>\n",
              "    </tr>\n",
              "    <tr>\n",
              "      <th>freq</th>\n",
              "      <td>1930</td>\n",
              "      <td>4349</td>\n",
              "      <td>1830</td>\n",
              "      <td>50000</td>\n",
              "      <td>50000</td>\n",
              "      <td>85</td>\n",
              "      <td>123</td>\n",
              "      <td>162</td>\n",
              "      <td>36864</td>\n",
              "      <td>8472</td>\n",
              "      <td>4539</td>\n",
              "      <td>5900</td>\n",
              "    </tr>\n",
              "  </tbody>\n",
              "</table>\n",
              "</div>"
            ],
            "text/plain": [
              "           category    city  ...       salary_offered   state\n",
              "count         50000   50000  ...                50000   49980\n",
              "unique           37    2918  ...                 7345     167\n",
              "top     health jobs  London  ...   Salary negotiable   London\n",
              "freq           1930    4349  ...                 4539    5900\n",
              "\n",
              "[4 rows x 12 columns]"
            ]
          },
          "metadata": {
            "tags": []
          },
          "execution_count": 5
        }
      ]
    },
    {
      "cell_type": "markdown",
      "metadata": {
        "id": "4B2G59ZfD_au"
      },
      "source": [
        "'geo' and 'job_board' gives no information so it will be droped.\n",
        "'state' info is implicit in 'city' and 'post_date' is not necessary"
      ]
    },
    {
      "cell_type": "code",
      "metadata": {
        "id": "3snvq7M4EKTb"
      },
      "source": [
        "reed=reed.drop(['geo', 'job_board', 'state','post_date'], axis=1)"
      ],
      "execution_count": 6,
      "outputs": []
    },
    {
      "cell_type": "code",
      "metadata": {
        "id": "XG-YuqLwSmG2"
      },
      "source": [
        "reed=reed.drop_duplicates()"
      ],
      "execution_count": 7,
      "outputs": []
    },
    {
      "cell_type": "code",
      "metadata": {
        "id": "PzlrYp2XSnw_",
        "colab": {
          "base_uri": "https://localhost:8080/",
          "height": 173
        },
        "outputId": "fdee1512-c337-4572-e50f-fb50dae7134c"
      },
      "source": [
        "reed.describe()"
      ],
      "execution_count": 8,
      "outputs": [
        {
          "output_type": "execute_result",
          "data": {
            "text/html": [
              "<div>\n",
              "<style scoped>\n",
              "    .dataframe tbody tr th:only-of-type {\n",
              "        vertical-align: middle;\n",
              "    }\n",
              "\n",
              "    .dataframe tbody tr th {\n",
              "        vertical-align: top;\n",
              "    }\n",
              "\n",
              "    .dataframe thead th {\n",
              "        text-align: right;\n",
              "    }\n",
              "</style>\n",
              "<table border=\"1\" class=\"dataframe\">\n",
              "  <thead>\n",
              "    <tr style=\"text-align: right;\">\n",
              "      <th></th>\n",
              "      <th>category</th>\n",
              "      <th>city</th>\n",
              "      <th>company_name</th>\n",
              "      <th>job_description</th>\n",
              "      <th>job_requirements</th>\n",
              "      <th>job_title</th>\n",
              "      <th>job_type</th>\n",
              "      <th>salary_offered</th>\n",
              "    </tr>\n",
              "  </thead>\n",
              "  <tbody>\n",
              "    <tr>\n",
              "      <th>count</th>\n",
              "      <td>44477</td>\n",
              "      <td>44477</td>\n",
              "      <td>44477</td>\n",
              "      <td>44477</td>\n",
              "      <td>18344</td>\n",
              "      <td>44477</td>\n",
              "      <td>44477</td>\n",
              "      <td>44477</td>\n",
              "    </tr>\n",
              "    <tr>\n",
              "      <th>unique</th>\n",
              "      <td>37</td>\n",
              "      <td>2918</td>\n",
              "      <td>5166</td>\n",
              "      <td>42057</td>\n",
              "      <td>14887</td>\n",
              "      <td>29155</td>\n",
              "      <td>9</td>\n",
              "      <td>7345</td>\n",
              "    </tr>\n",
              "    <tr>\n",
              "      <th>top</th>\n",
              "      <td>construction property jobs</td>\n",
              "      <td>London</td>\n",
              "      <td>Hays Specialist Recruitment Limited</td>\n",
              "      <td>Apply on employer's website Add an annual tur...</td>\n",
              "      <td>Required skills Recruitment</td>\n",
              "      <td>Administrator</td>\n",
              "      <td>Permanent, full-time</td>\n",
              "      <td>Salary negotiable</td>\n",
              "    </tr>\n",
              "    <tr>\n",
              "      <th>freq</th>\n",
              "      <td>1829</td>\n",
              "      <td>3848</td>\n",
              "      <td>1699</td>\n",
              "      <td>83</td>\n",
              "      <td>119</td>\n",
              "      <td>144</td>\n",
              "      <td>32842</td>\n",
              "      <td>3985</td>\n",
              "    </tr>\n",
              "  </tbody>\n",
              "</table>\n",
              "</div>"
            ],
            "text/plain": [
              "                          category  ...       salary_offered\n",
              "count                        44477  ...                44477\n",
              "unique                          37  ...                 7345\n",
              "top     construction property jobs  ...   Salary negotiable \n",
              "freq                          1829  ...                 3985\n",
              "\n",
              "[4 rows x 8 columns]"
            ]
          },
          "metadata": {
            "tags": []
          },
          "execution_count": 8
        }
      ]
    },
    {
      "cell_type": "markdown",
      "metadata": {
        "id": "Bu-Uzy2BQ1i4"
      },
      "source": [
        ""
      ]
    },
    {
      "cell_type": "code",
      "metadata": {
        "id": "fUJk31pvQ1s9"
      },
      "source": [
        "reed=reed.dropna()"
      ],
      "execution_count": 9,
      "outputs": []
    },
    {
      "cell_type": "markdown",
      "metadata": {
        "id": "S0Bovh-yRG02"
      },
      "source": [
        ""
      ]
    },
    {
      "cell_type": "code",
      "metadata": {
        "id": "ghyhMChkDCu_"
      },
      "source": [
        "def remove_stopwords(text):\n",
        "      if type(text)!=float:      \n",
        "        STOPWORDS = set(stopwords.words('english'))\n",
        "        STOPWORDS.update(['Apply', 'now', 'Required','skills', 'per', 'annum',',','pro-rata','ote','hour','inc','benefits', '/'])\n",
        "        tokens = nltk.word_tokenize(text)\n",
        "        t = ' '.join([word for word in text.split() if word not in STOPWORDS]) \n",
        "        t=t.lower()\n",
        "        return t"
      ],
      "execution_count": 10,
      "outputs": []
    },
    {
      "cell_type": "code",
      "metadata": {
        "id": "I_jxXicLCu-u",
        "colab": {
          "base_uri": "https://localhost:8080/"
        },
        "outputId": "2fb63924-7d82-4c0f-88a4-c2b185dddcfb"
      },
      "source": [
        "for col in reed.columns:\n",
        "  print(col)\n",
        "  if (col!='city' and col!='category' and col!='company_name' and col!='id'):\n",
        "    reed[col]=reed[col].map(lambda x: remove_stopwords(x))\n",
        "  "
      ],
      "execution_count": 11,
      "outputs": [
        {
          "output_type": "stream",
          "text": [
            "category\n",
            "city\n",
            "company_name\n",
            "job_description\n",
            "job_requirements\n",
            "job_title\n",
            "job_type\n",
            "salary_offered\n"
          ],
          "name": "stdout"
        }
      ]
    },
    {
      "cell_type": "code",
      "metadata": {
        "id": "rj_Sqa8mCvBW",
        "colab": {
          "base_uri": "https://localhost:8080/",
          "height": 529
        },
        "outputId": "7bacb2dc-12bf-4f75-8363-9a4e5b047854"
      },
      "source": [
        "reed.head(10)"
      ],
      "execution_count": 12,
      "outputs": [
        {
          "output_type": "execute_result",
          "data": {
            "text/html": [
              "<div>\n",
              "<style scoped>\n",
              "    .dataframe tbody tr th:only-of-type {\n",
              "        vertical-align: middle;\n",
              "    }\n",
              "\n",
              "    .dataframe tbody tr th {\n",
              "        vertical-align: top;\n",
              "    }\n",
              "\n",
              "    .dataframe thead th {\n",
              "        text-align: right;\n",
              "    }\n",
              "</style>\n",
              "<table border=\"1\" class=\"dataframe\">\n",
              "  <thead>\n",
              "    <tr style=\"text-align: right;\">\n",
              "      <th></th>\n",
              "      <th>category</th>\n",
              "      <th>city</th>\n",
              "      <th>company_name</th>\n",
              "      <th>job_description</th>\n",
              "      <th>job_requirements</th>\n",
              "      <th>job_title</th>\n",
              "      <th>job_type</th>\n",
              "      <th>salary_offered</th>\n",
              "    </tr>\n",
              "  </thead>\n",
              "  <tbody>\n",
              "    <tr>\n",
              "      <th>3</th>\n",
              "      <td>law jobs</td>\n",
              "      <td>Hurstpierpoint</td>\n",
              "      <td>Castles Solicitors</td>\n",
              "      <td>castles solicitors looking part full time lega...</td>\n",
              "      <td>admin case management correspondence legal sol...</td>\n",
              "      <td>legal secretary admin assistant</td>\n",
              "      <td>permanent, full-time part-time</td>\n",
              "      <td>£15,000 - £17,000 annum,</td>\n",
              "    </tr>\n",
              "    <tr>\n",
              "      <th>7</th>\n",
              "      <td>motoring automotive jobs</td>\n",
              "      <td>Luton</td>\n",
              "      <td>Fine Recruiting Ltd</td>\n",
              "      <td>an exciting opportunity start new accident rep...</td>\n",
              "      <td>accident paint repair spray paint</td>\n",
              "      <td>vehicle paint sprayer</td>\n",
              "      <td>permanent, full-time</td>\n",
              "      <td>£35,000 - £40,000</td>\n",
              "    </tr>\n",
              "    <tr>\n",
              "      <th>9</th>\n",
              "      <td>law jobs</td>\n",
              "      <td>Leeds</td>\n",
              "      <td>Rachel Clark Legal Recruitment</td>\n",
              "      <td>this highly regarded, top law firm north engla...</td>\n",
              "      <td>diary management legal secretarial typing</td>\n",
              "      <td>legal secretary</td>\n",
              "      <td>permanent, full-time</td>\n",
              "      <td>£18,000 - £25,000 annum,</td>\n",
              "    </tr>\n",
              "    <tr>\n",
              "      <th>10</th>\n",
              "      <td>motoring automotive jobs</td>\n",
              "      <td>Bermuda Park</td>\n",
              "      <td>Keastone Recruitment</td>\n",
              "      <td>the opportunity this remarkable opportunity jo...</td>\n",
              "      <td>car dealership sales sales executive sales team</td>\n",
              "      <td>sales executive (automotive main dealer)</td>\n",
              "      <td>permanent, full-time</td>\n",
              "      <td>£12,000 - £40,000 annum, ote</td>\n",
              "    </tr>\n",
              "    <tr>\n",
              "      <th>15</th>\n",
              "      <td>catering jobs</td>\n",
              "      <td>Wooburn Green</td>\n",
              "      <td>Leisure People Recruitment</td>\n",
              "      <td>our client looking recruit committed, enthusia...</td>\n",
              "      <td>chef line chef commis chef cook kitchen staff ...</td>\n",
              "      <td>line chef part time - large private members club</td>\n",
              "      <td>permanent, part-time</td>\n",
              "      <td>£8.00 - £8.50</td>\n",
              "    </tr>\n",
              "    <tr>\n",
              "      <th>16</th>\n",
              "      <td>retail jobs</td>\n",
              "      <td>Edinburgh</td>\n",
              "      <td>Switch Consulting Recruitment Limited</td>\n",
              "      <td>my client my client helping change way world w...</td>\n",
              "      <td>businesses</td>\n",
              "      <td>centre manager edinburgh</td>\n",
              "      <td>permanent, full-time</td>\n",
              "      <td>£25,000 - £30,000 annum, ote</td>\n",
              "    </tr>\n",
              "    <tr>\n",
              "      <th>17</th>\n",
              "      <td>catering jobs</td>\n",
              "      <td>Cardiff</td>\n",
              "      <td>Berry Recruitment</td>\n",
              "      <td>berry recruitment looking event staff work upc...</td>\n",
              "      <td>catering event hospitality jobs customer waite...</td>\n",
              "      <td>event staff</td>\n",
              "      <td>temporary, part-time</td>\n",
              "      <td>£7.50</td>\n",
              "    </tr>\n",
              "    <tr>\n",
              "      <th>21</th>\n",
              "      <td>law jobs</td>\n",
              "      <td>Leicester</td>\n",
              "      <td>Sacco Mann</td>\n",
              "      <td>are residential conveyancing fee earner extens...</td>\n",
              "      <td>residential conveyancing paralegal filex legal...</td>\n",
              "      <td>conveyancing sales technical specialist</td>\n",
              "      <td>permanent, full-time</td>\n",
              "      <td>£20,000 - £26,000</td>\n",
              "    </tr>\n",
              "    <tr>\n",
              "      <th>22</th>\n",
              "      <td>motoring automotive jobs</td>\n",
              "      <td>Warrington</td>\n",
              "      <td>Perfect Placement Uk Ltd</td>\n",
              "      <td>automotive, motor trade job: vehicle service a...</td>\n",
              "      <td>automotive customer services sales aftersales ...</td>\n",
              "      <td>vehicle service advisor</td>\n",
              "      <td>permanent, full-time</td>\n",
              "      <td>£20,000 - £25,000 annum, benefits, ote</td>\n",
              "    </tr>\n",
              "    <tr>\n",
              "      <th>24</th>\n",
              "      <td>retail jobs</td>\n",
              "      <td>Cirencester</td>\n",
              "      <td>4Leisure Recruitment</td>\n",
              "      <td>we seeking proactive membership sales consulta...</td>\n",
              "      <td>leisure sales</td>\n",
              "      <td>membership sales consultant - leading leisure ...</td>\n",
              "      <td>temporary, full-time part-time</td>\n",
              "      <td>£8.00 - £10.00</td>\n",
              "    </tr>\n",
              "  </tbody>\n",
              "</table>\n",
              "</div>"
            ],
            "text/plain": [
              "                    category  ...                          salary_offered\n",
              "3                   law jobs  ...                £15,000 - £17,000 annum,\n",
              "7   motoring automotive jobs  ...                       £35,000 - £40,000\n",
              "9                   law jobs  ...                £18,000 - £25,000 annum,\n",
              "10  motoring automotive jobs  ...            £12,000 - £40,000 annum, ote\n",
              "15             catering jobs  ...                           £8.00 - £8.50\n",
              "16               retail jobs  ...            £25,000 - £30,000 annum, ote\n",
              "17             catering jobs  ...                                   £7.50\n",
              "21                  law jobs  ...                       £20,000 - £26,000\n",
              "22  motoring automotive jobs  ...  £20,000 - £25,000 annum, benefits, ote\n",
              "24               retail jobs  ...                          £8.00 - £10.00\n",
              "\n",
              "[10 rows x 8 columns]"
            ]
          },
          "metadata": {
            "tags": []
          },
          "execution_count": 12
        }
      ]
    },
    {
      "cell_type": "code",
      "metadata": {
        "id": "ZGcylC1CCvEe",
        "colab": {
          "base_uri": "https://localhost:8080/",
          "height": 173
        },
        "outputId": "e42b2c24-0f44-45c7-95bc-088ffa2191f7"
      },
      "source": [
        "reed.describe()"
      ],
      "execution_count": 13,
      "outputs": [
        {
          "output_type": "execute_result",
          "data": {
            "text/html": [
              "<div>\n",
              "<style scoped>\n",
              "    .dataframe tbody tr th:only-of-type {\n",
              "        vertical-align: middle;\n",
              "    }\n",
              "\n",
              "    .dataframe tbody tr th {\n",
              "        vertical-align: top;\n",
              "    }\n",
              "\n",
              "    .dataframe thead th {\n",
              "        text-align: right;\n",
              "    }\n",
              "</style>\n",
              "<table border=\"1\" class=\"dataframe\">\n",
              "  <thead>\n",
              "    <tr style=\"text-align: right;\">\n",
              "      <th></th>\n",
              "      <th>category</th>\n",
              "      <th>city</th>\n",
              "      <th>company_name</th>\n",
              "      <th>job_description</th>\n",
              "      <th>job_requirements</th>\n",
              "      <th>job_title</th>\n",
              "      <th>job_type</th>\n",
              "      <th>salary_offered</th>\n",
              "    </tr>\n",
              "  </thead>\n",
              "  <tbody>\n",
              "    <tr>\n",
              "      <th>count</th>\n",
              "      <td>18344</td>\n",
              "      <td>18344</td>\n",
              "      <td>18344</td>\n",
              "      <td>18344</td>\n",
              "      <td>18344</td>\n",
              "      <td>18344</td>\n",
              "      <td>18344</td>\n",
              "      <td>18344</td>\n",
              "    </tr>\n",
              "    <tr>\n",
              "      <th>unique</th>\n",
              "      <td>37</td>\n",
              "      <td>1950</td>\n",
              "      <td>3458</td>\n",
              "      <td>17502</td>\n",
              "      <td>14815</td>\n",
              "      <td>13014</td>\n",
              "      <td>9</td>\n",
              "      <td>4205</td>\n",
              "    </tr>\n",
              "    <tr>\n",
              "      <th>top</th>\n",
              "      <td>engineering jobs</td>\n",
              "      <td>London</td>\n",
              "      <td>Hays Specialist Recruitment Limited</td>\n",
              "      <td>customer service ticket verification rates pay...</td>\n",
              "      <td>recruitment</td>\n",
              "      <td>customer service advisor</td>\n",
              "      <td>permanent, full-time</td>\n",
              "      <td>competitive salary</td>\n",
              "    </tr>\n",
              "    <tr>\n",
              "      <th>freq</th>\n",
              "      <td>940</td>\n",
              "      <td>1432</td>\n",
              "      <td>374</td>\n",
              "      <td>37</td>\n",
              "      <td>122</td>\n",
              "      <td>67</td>\n",
              "      <td>14053</td>\n",
              "      <td>1331</td>\n",
              "    </tr>\n",
              "  </tbody>\n",
              "</table>\n",
              "</div>"
            ],
            "text/plain": [
              "                category    city  ...              job_type      salary_offered\n",
              "count              18344   18344  ...                 18344               18344\n",
              "unique                37    1950  ...                     9                4205\n",
              "top     engineering jobs  London  ...  permanent, full-time  competitive salary\n",
              "freq                 940    1432  ...                 14053                1331\n",
              "\n",
              "[4 rows x 8 columns]"
            ]
          },
          "metadata": {
            "tags": []
          },
          "execution_count": 13
        }
      ]
    },
    {
      "cell_type": "code",
      "metadata": {
        "id": "1dEfsf13IMit",
        "colab": {
          "base_uri": "https://localhost:8080/"
        },
        "outputId": "c86a9fba-a73b-4fb0-8cae-796fa31e02d4"
      },
      "source": [
        "!pip install neo4j\n",
        "import json\n",
        "import time\n",
        " \n",
        "import pandas as pd\n",
        "import seaborn as sns\n",
        "import matplotlib.pyplot as plt\n",
        "#from tqdm import tqdm\n",
        "from neo4j import GraphDatabase"
      ],
      "execution_count": 14,
      "outputs": [
        {
          "output_type": "stream",
          "text": [
            "Requirement already satisfied: neo4j in /usr/local/lib/python3.7/dist-packages (4.2.1)\n",
            "Requirement already satisfied: pytz in /usr/local/lib/python3.7/dist-packages (from neo4j) (2018.9)\n"
          ],
          "name": "stdout"
        }
      ]
    },
    {
      "cell_type": "code",
      "metadata": {
        "id": "wTC_QDAFt4ee"
      },
      "source": [
        "class Neo4jConnection:\n",
        "    \n",
        "    def __init__(self, uri, user, pwd):\n",
        "        self.__uri = uri\n",
        "        self.__user = user\n",
        "        self.__pwd = pwd\n",
        "        self.__driver = None\n",
        "        try:\n",
        "            self.__driver = GraphDatabase.driver(self.__uri, auth=(self.__user, self.__pwd))\n",
        "        except Exception as e:\n",
        "            print(\"Failed to create the driver:\", e)\n",
        "        \n",
        "    def close(self):\n",
        "        if self.__driver is not None:\n",
        "            self.__driver.close()\n",
        "        \n",
        "    def query(self, query, parameters=None, db=None):\n",
        "        assert self.__driver is not None, \"Driver not initialized!\"\n",
        "        session = None\n",
        "        response = None\n",
        "        try: \n",
        "            session = self.__driver.session(database=db) if db is not None else self.__driver.session() \n",
        "            response = list(session.run(query, parameters))\n",
        "        except Exception as e:\n",
        "            print(\"Query failed:\", e)\n",
        "        finally: \n",
        "            if session is not None:\n",
        "                session.close()\n",
        "        return response"
      ],
      "execution_count": 15,
      "outputs": []
    },
    {
      "cell_type": "code",
      "metadata": {
        "id": "Cm3AhGM6usXm"
      },
      "source": [
        "def get_job_title(line):\n",
        "    # Cleans author dataframe column, creating a list of authors in the row.\n",
        "    \n",
        "    return list(line.split(\" \"))\n",
        " \n",
        " \n",
        "def get_category_list(line):\n",
        "    # Cleans category dataframe column, creating a list of categories in the\n",
        "    # row.\n",
        "    line=line.split(\" \")\n",
        "    line=line[:-1]\n",
        "    return list(line)\n",
        " \n",
        "def get_city_list(line):\n",
        "  listline=[]\n",
        "  listline.append(line)\n",
        "  return listline\n",
        " \n",
        "def add_job_title(job_title):\n",
        "    \n",
        "  \n",
        "    query = '''UNWIND $rows AS row\n",
        "    MERGE (jt:Job_title {job_title: row.job_title})\n",
        "    RETURN count(*) as total\n",
        "    '''\n",
        "    \n",
        "    return conn.query(query, parameters={'rows': job_title.to_dict('records')})\n",
        " \n",
        " \n",
        "def add_city(rows, batch_size=5000):\n",
        "    \n",
        " \n",
        "    query = '''UNWIND $rows AS row\n",
        "               MERGE (ct:City {city: row.city})\n",
        "               RETURN count(*) as total\n",
        "    '''\n",
        "    return conn.query(query, parameters={'rows': city.to_dict('records')})\n",
        " \n",
        " \n",
        "def add_category(rows, batch_size=5000):\n",
        "    # Adds paper nodes and (:Author)--(:Paper) and (:Paper)--(:Category)\n",
        "    # relationships to the Neo4j graph as a batch job.  (Note the smaller batch\n",
        "    # size due to the fact that this function is adding much more data than the\n",
        "    # add_authors() function.)\n",
        " \n",
        "    query = '''\n",
        "    UNWIND $rows as row\n",
        "    MERGE (c:Category {category: row.category}) ON CREATE SET c.category = row.category\n",
        "    \n",
        "    // connect job_title\n",
        "    WITH row, c\n",
        "    UNWIND row.job_title_list AS job_title_list\n",
        "    MATCH (jt:Job_title {job_title: job_title_list})\n",
        "    MERGE (c)-[r:POSITION]->(jt)\n",
        "\n",
        "    // connect city\n",
        "    WITH  row, c \n",
        "    UNWIND row.city_list AS city_list\n",
        "    MATCH (ct:City {city: city_list})\n",
        "    MERGE (c)-[r:REQUIRED_IN]->(ct)\n",
        "    RETURN count (c) as total\n",
        "    '''\n",
        " \n",
        "    return conn.query(query, parameters={'rows': reed.to_dict('records')}) #insert_data(query, rows, batch_size)\n",
        " "
      ],
      "execution_count": 16,
      "outputs": []
    },
    {
      "cell_type": "code",
      "metadata": {
        "id": "xUWuxvEEzZTp"
      },
      "source": [
        "reed['category_list'] = reed['category'].map(get_category_list)\n",
        "category = pd.DataFrame(reed[['category_list']])\n",
        "category.rename(columns={'category_list':'category'}, inplace=True)\n",
        " \n",
        " \n",
        "reed['job_title_list'] = reed['job_title'].map(get_job_title)\n",
        "job_title = pd.DataFrame(reed[['job_title_list']])\n",
        "job_title.rename(columns={'job_title_list':'job_title'}, inplace=True)\n",
        " \n",
        " \n",
        "reed['city_list'] = reed['city'].map(get_city_list)\n",
        "city = pd.DataFrame(reed[['city_list']])\n",
        "city.rename(columns={'city_list':'city'}, inplace=True)\n",
        " \n",
        " \n",
        " \n",
        " \n",
        "job_title = job_title.explode('job_title').drop_duplicates(subset=['job_title'])\n",
        "city = city.explode('city').drop_duplicates(subset=['city'])"
      ],
      "execution_count": 17,
      "outputs": []
    },
    {
      "cell_type": "code",
      "metadata": {
        "id": "heq8lbiSyha2"
      },
      "source": [
        "conn = Neo4jConnection(uri=\"bolt://34.206.64.64:7687\", user=\"neo4j\", pwd=\"connections-tear-ignitions\")"
      ],
      "execution_count": 18,
      "outputs": []
    },
    {
      "cell_type": "code",
      "metadata": {
        "id": "yJVKsAB2yqfo",
        "colab": {
          "base_uri": "https://localhost:8080/"
        },
        "outputId": "07795ff4-e691-4ca8-c824-4734d072c263"
      },
      "source": [
        "conn.query('CREATE CONSTRAINT category IF NOT EXISTS ON (c:Category) ASSERT c.category IS UNIQUE')\n",
        "conn.query('CREATE CONSTRAINT city IF NOT EXISTS ON (ct:City) ASSERT ct.city IS UNIQUE')\n",
        "conn.query('CREATE CONSTRAINT job_title IF NOT EXISTS ON (jt:Job_title) ASSERT jt.job_title IS UNIQUE')"
      ],
      "execution_count": 19,
      "outputs": [
        {
          "output_type": "execute_result",
          "data": {
            "text/plain": [
              "[]"
            ]
          },
          "metadata": {
            "tags": []
          },
          "execution_count": 19
        }
      ]
    },
    {
      "cell_type": "code",
      "metadata": {
        "id": "w3fppKBhzLa3",
        "colab": {
          "base_uri": "https://localhost:8080/"
        },
        "outputId": "6a11e27a-8b88-4df7-dcca-04464150408e"
      },
      "source": [
        "add_job_title(job_title)"
      ],
      "execution_count": 20,
      "outputs": [
        {
          "output_type": "execute_result",
          "data": {
            "text/plain": [
              "[<Record total=7551>]"
            ]
          },
          "metadata": {
            "tags": []
          },
          "execution_count": 20
        }
      ]
    },
    {
      "cell_type": "code",
      "metadata": {
        "id": "wSnUxQ3104_h",
        "colab": {
          "base_uri": "https://localhost:8080/"
        },
        "outputId": "6c540f3f-44df-457d-be0a-b6e6a960eca2"
      },
      "source": [
        "add_city(city)"
      ],
      "execution_count": 21,
      "outputs": [
        {
          "output_type": "execute_result",
          "data": {
            "text/plain": [
              "[<Record total=1950>]"
            ]
          },
          "metadata": {
            "tags": []
          },
          "execution_count": 21
        }
      ]
    },
    {
      "cell_type": "code",
      "metadata": {
        "id": "PSAATciD2PWj",
        "colab": {
          "base_uri": "https://localhost:8080/"
        },
        "outputId": "b6d5b8e2-1d95-4b53-d6a1-470aabd3a383"
      },
      "source": [
        "add_category(reed)"
      ],
      "execution_count": 25,
      "outputs": [
        {
          "output_type": "execute_result",
          "data": {
            "text/plain": [
              "[<Record total=77151>]"
            ]
          },
          "metadata": {
            "tags": []
          },
          "execution_count": 25
        }
      ]
    },
    {
      "cell_type": "code",
      "metadata": {
        "id": "wehd9spd_lMy",
        "colab": {
          "base_uri": "https://localhost:8080/"
        },
        "outputId": "78d19cdd-7d2d-4be3-d126-1d4b888b5998"
      },
      "source": [
        "query_string = '''\n",
        "MATCH p=()-[r:REQUIRED_IN]->(), z=()-[:POSITION]->() RETURN p,z LIMIT 25\n",
        "'''\n",
        "\n",
        "command=conn.query(query_string)\n",
        "print(command[0]['p'])\n",
        "print(command[0]['z'])"
      ],
      "execution_count": 54,
      "outputs": [
        {
          "output_type": "stream",
          "text": [
            "<Path start=<Node id=9509 labels=frozenset({'Category'}) properties={'category': 'law jobs'}> end=<Node id=7551 labels=frozenset({'City'}) properties={'city': 'Hurstpierpoint'}> size=1>\n",
            "<Path start=<Node id=9509 labels=frozenset({'Category'}) properties={'category': 'law jobs'}> end=<Node id=276 labels=frozenset({'Job_title'}) properties={'job_title': 'french'}> size=1>\n"
          ],
          "name": "stdout"
        }
      ]
    },
    {
      "cell_type": "code",
      "metadata": {
        "id": "Ltk6Vbm9_IlW"
      },
      "source": [
        "conn.close()"
      ],
      "execution_count": 55,
      "outputs": []
    }
  ]
}