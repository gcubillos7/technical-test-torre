{
  "nbformat": 4,
  "nbformat_minor": 0,
  "metadata": {
    "colab": {
      "name": "TechnicalTest.ipynb",
      "provenance": [],
      "authorship_tag": "ABX9TyPmcUaeDtSBVju/OlJLdmXP",
      "include_colab_link": true
    },
    "kernelspec": {
      "name": "python3",
      "display_name": "Python 3"
    },
    "language_info": {
      "name": "python"
    }
  },
  "cells": [
    {
      "cell_type": "markdown",
      "metadata": {
        "id": "view-in-github",
        "colab_type": "text"
      },
      "source": [
        "<a href=\"https://colab.research.google.com/github/gcubillos7/technical-test-torre/blob/main/TechnicalTest.ipynb\" target=\"_parent\"><img src=\"https://colab.research.google.com/assets/colab-badge.svg\" alt=\"Open In Colab\"/></a>"
      ]
    },
    {
      "cell_type": "code",
      "metadata": {
        "colab": {
          "base_uri": "https://localhost:8080/"
        },
        "id": "A7nUqXeABmzp",
        "outputId": "0dcfad0c-4a6f-4760-b11c-96b990d6e297"
      },
      "source": [
        "!gdown --id 1EDxy0azg2IbpL0-jRfC4bHlZTnMkrjHH"
      ],
      "execution_count": 1,
      "outputs": [
        {
          "output_type": "stream",
          "text": [
            "Downloading...\n",
            "From: https://drive.google.com/uc?id=1EDxy0azg2IbpL0-jRfC4bHlZTnMkrjHH\n",
            "To: /content/reed_uk.csv\n",
            "109MB [00:00, 142MB/s]\n"
          ],
          "name": "stdout"
        }
      ]
    },
    {
      "cell_type": "code",
      "metadata": {
        "id": "UsaDVX7KBpkP"
      },
      "source": [
        "import pandas as pd\n",
        "import numpy as np"
      ],
      "execution_count": 2,
      "outputs": []
    },
    {
      "cell_type": "code",
      "metadata": {
        "id": "wFBm5dB0CMFD"
      },
      "source": [
        "reed=pd.read_csv('/content/reed_uk.csv')"
      ],
      "execution_count": 3,
      "outputs": []
    },
    {
      "cell_type": "code",
      "metadata": {
        "colab": {
          "base_uri": "https://localhost:8080/",
          "height": 306
        },
        "id": "CzBj5njzCSy9",
        "outputId": "abbb5761-22c1-4ec1-9934-4d5abaaca401"
      },
      "source": [
        "reed.head(5)"
      ],
      "execution_count": 5,
      "outputs": [
        {
          "output_type": "execute_result",
          "data": {
            "text/html": [
              "<div>\n",
              "<style scoped>\n",
              "    .dataframe tbody tr th:only-of-type {\n",
              "        vertical-align: middle;\n",
              "    }\n",
              "\n",
              "    .dataframe tbody tr th {\n",
              "        vertical-align: top;\n",
              "    }\n",
              "\n",
              "    .dataframe thead th {\n",
              "        text-align: right;\n",
              "    }\n",
              "</style>\n",
              "<table border=\"1\" class=\"dataframe\">\n",
              "  <thead>\n",
              "    <tr style=\"text-align: right;\">\n",
              "      <th></th>\n",
              "      <th>category</th>\n",
              "      <th>city</th>\n",
              "      <th>company_name</th>\n",
              "      <th>geo</th>\n",
              "      <th>job_board</th>\n",
              "      <th>job_description</th>\n",
              "      <th>job_requirements</th>\n",
              "      <th>job_title</th>\n",
              "      <th>job_type</th>\n",
              "      <th>post_date</th>\n",
              "      <th>salary_offered</th>\n",
              "      <th>state</th>\n",
              "    </tr>\n",
              "  </thead>\n",
              "  <tbody>\n",
              "    <tr>\n",
              "      <th>0</th>\n",
              "      <td>catering jobs</td>\n",
              "      <td>Chudleigh</td>\n",
              "      <td>Haulfryn Group</td>\n",
              "      <td>uk</td>\n",
              "      <td>reed</td>\n",
              "      <td>Apply now New opportunity not to be missed! H...</td>\n",
              "      <td>NaN</td>\n",
              "      <td>Commis Chef</td>\n",
              "      <td>Permanent, full-time</td>\n",
              "      <td>3/12/2018</td>\n",
              "      <td>£18,323 per annum</td>\n",
              "      <td>Devon</td>\n",
              "    </tr>\n",
              "    <tr>\n",
              "      <th>1</th>\n",
              "      <td>law jobs</td>\n",
              "      <td>Swindon</td>\n",
              "      <td>Reed</td>\n",
              "      <td>uk</td>\n",
              "      <td>reed</td>\n",
              "      <td>Apply now This role requires an experienced s...</td>\n",
              "      <td>NaN</td>\n",
              "      <td>Corporate Legal Secretary</td>\n",
              "      <td>Permanent, full-time</td>\n",
              "      <td>3/8/2018</td>\n",
              "      <td>£18,000 - £22,000 per annum</td>\n",
              "      <td>Wiltshire</td>\n",
              "    </tr>\n",
              "    <tr>\n",
              "      <th>2</th>\n",
              "      <td>factory jobs</td>\n",
              "      <td>Norfolk</td>\n",
              "      <td>Swanstaff Recruitment Ltd</td>\n",
              "      <td>uk</td>\n",
              "      <td>reed</td>\n",
              "      <td>Apply now Job Title: Warehouse personLocation...</td>\n",
              "      <td>NaN</td>\n",
              "      <td>Warehouse Person</td>\n",
              "      <td>Permanent, full-time</td>\n",
              "      <td>2/27/2018</td>\n",
              "      <td>Salary not specified</td>\n",
              "      <td>East Anglia</td>\n",
              "    </tr>\n",
              "    <tr>\n",
              "      <th>3</th>\n",
              "      <td>law jobs</td>\n",
              "      <td>Hurstpierpoint</td>\n",
              "      <td>Castles Solicitors</td>\n",
              "      <td>uk</td>\n",
              "      <td>reed</td>\n",
              "      <td>Apply now Castles Solicitors are looking for ...</td>\n",
              "      <td>Required skills Admin Case Management Corresp...</td>\n",
              "      <td>Legal Secretary / Admin Assistant</td>\n",
              "      <td>Permanent, full-time or part-time</td>\n",
              "      <td>2/21/2018</td>\n",
              "      <td>£15,000 - £17,000 per annum, pro-rata</td>\n",
              "      <td>West Sussex</td>\n",
              "    </tr>\n",
              "    <tr>\n",
              "      <th>4</th>\n",
              "      <td>factory jobs</td>\n",
              "      <td>Hertfordshire</td>\n",
              "      <td>Marketplace Group</td>\n",
              "      <td>uk</td>\n",
              "      <td>reed</td>\n",
              "      <td>Apply now International Pharmaceutical Manufa...</td>\n",
              "      <td>NaN</td>\n",
              "      <td>Category Planner - Pharmaceutical</td>\n",
              "      <td>Permanent, full-time</td>\n",
              "      <td>3/1/2018</td>\n",
              "      <td>£37,000 - £45,000 per annum</td>\n",
              "      <td>South East England</td>\n",
              "    </tr>\n",
              "  </tbody>\n",
              "</table>\n",
              "</div>"
            ],
            "text/plain": [
              "        category  ...               state\n",
              "0  catering jobs  ...               Devon\n",
              "1       law jobs  ...           Wiltshire\n",
              "2   factory jobs  ...         East Anglia\n",
              "3       law jobs  ...         West Sussex\n",
              "4   factory jobs  ...  South East England\n",
              "\n",
              "[5 rows x 12 columns]"
            ]
          },
          "metadata": {
            "tags": []
          },
          "execution_count": 5
        }
      ]
    },
    {
      "cell_type": "code",
      "metadata": {
        "id": "WZc_BoTECUmj"
      },
      "source": [
        ""
      ],
      "execution_count": null,
      "outputs": []
    }
  ]
}